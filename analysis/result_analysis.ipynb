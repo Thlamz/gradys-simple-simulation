{
 "cells": [
  {
   "cell_type": "code",
   "execution_count": 11,
   "metadata": {},
   "outputs": [],
   "source": [
    "import seaborn as sns\n",
    "import matplotlib.pyplot as plt\n",
    "import pandas as pd\n",
    "import json\n",
    "import plotly.express as px\n",
    "import plotly.graph_objects as go"
   ]
  },
  {
   "cell_type": "code",
   "execution_count": 12,
   "metadata": {},
   "outputs": [],
   "source": [
    "with open(\"./result.json\", \"r\") as file:\n",
    "    result_file = json.loads(file.read())"
   ]
  },
  {
   "cell_type": "code",
   "execution_count": 13,
   "metadata": {},
   "outputs": [
    {
     "data": {
      "text/plain": "   max_possible_throughput  expected_throughput  avg_throughput  \\\n0                66.333333                 39.8        1.162343   \n1                66.333333                 39.8       18.349933   \n2                66.333333                 39.8        3.405763   \n3                66.333333                 39.8        0.399002   \n4                66.333333                 39.8       18.339051   \n\n                      controller mission_size num_agents  \\\n0  <class 'QLearning.QLearning'>          200          4   \n1          <class 'Dadca.Dadca'>          200          4   \n2  <class 'QLearning.QLearning'>          200          4   \n3  <class 'QLearning.QLearning'>          200          4   \n4          <class 'Dadca.Dadca'>          200          4   \n\n  sensor_generation_frequency sensor_generation_probability  \\\n0                           3                           0.6   \n1                           3                           0.6   \n2                           3                           0.6   \n3                           3                           0.6   \n4                           3                           0.6   \n\n  sensor_packet_lifecycle maximum_simulation_steps  ... learning_rate gamma  \\\n0                      25                     1000  ...           0.1  0.99   \n1                      25                   100000  ...           0.1  0.99   \n2                      25                   100000  ...           0.1  0.99   \n3                      25                   100000  ...           0.1  0.99   \n4                      25                   100000  ...           0.1  0.99   \n\n  qtable_initialization_value qtable_file qtable_format training step_by_step  \\\n0                           0    0.pickle        sparse     True        False   \n1                           0   17.pickle        sparse     True        False   \n2                           0   18.pickle        sparse     True        False   \n3                           0   18.pickle        sparse    False        False   \n4                           0   19.pickle        sparse     True        False   \n\n   plots verbose repetitions  \n0  False   False           1  \n1  False   False           1  \n2  False   False           2  \n3  False   False           2  \n4  False   False           2  \n\n[5 rows x 22 columns]",
      "text/html": "<div>\n<style scoped>\n    .dataframe tbody tr th:only-of-type {\n        vertical-align: middle;\n    }\n\n    .dataframe tbody tr th {\n        vertical-align: top;\n    }\n\n    .dataframe thead th {\n        text-align: right;\n    }\n</style>\n<table border=\"1\" class=\"dataframe\">\n  <thead>\n    <tr style=\"text-align: right;\">\n      <th></th>\n      <th>max_possible_throughput</th>\n      <th>expected_throughput</th>\n      <th>avg_throughput</th>\n      <th>controller</th>\n      <th>mission_size</th>\n      <th>num_agents</th>\n      <th>sensor_generation_frequency</th>\n      <th>sensor_generation_probability</th>\n      <th>sensor_packet_lifecycle</th>\n      <th>maximum_simulation_steps</th>\n      <th>...</th>\n      <th>learning_rate</th>\n      <th>gamma</th>\n      <th>qtable_initialization_value</th>\n      <th>qtable_file</th>\n      <th>qtable_format</th>\n      <th>training</th>\n      <th>step_by_step</th>\n      <th>plots</th>\n      <th>verbose</th>\n      <th>repetitions</th>\n    </tr>\n  </thead>\n  <tbody>\n    <tr>\n      <th>0</th>\n      <td>66.333333</td>\n      <td>39.8</td>\n      <td>1.162343</td>\n      <td>&lt;class 'QLearning.QLearning'&gt;</td>\n      <td>200</td>\n      <td>4</td>\n      <td>3</td>\n      <td>0.6</td>\n      <td>25</td>\n      <td>1000</td>\n      <td>...</td>\n      <td>0.1</td>\n      <td>0.99</td>\n      <td>0</td>\n      <td>0.pickle</td>\n      <td>sparse</td>\n      <td>True</td>\n      <td>False</td>\n      <td>False</td>\n      <td>False</td>\n      <td>1</td>\n    </tr>\n    <tr>\n      <th>1</th>\n      <td>66.333333</td>\n      <td>39.8</td>\n      <td>18.349933</td>\n      <td>&lt;class 'Dadca.Dadca'&gt;</td>\n      <td>200</td>\n      <td>4</td>\n      <td>3</td>\n      <td>0.6</td>\n      <td>25</td>\n      <td>100000</td>\n      <td>...</td>\n      <td>0.1</td>\n      <td>0.99</td>\n      <td>0</td>\n      <td>17.pickle</td>\n      <td>sparse</td>\n      <td>True</td>\n      <td>False</td>\n      <td>False</td>\n      <td>False</td>\n      <td>1</td>\n    </tr>\n    <tr>\n      <th>2</th>\n      <td>66.333333</td>\n      <td>39.8</td>\n      <td>3.405763</td>\n      <td>&lt;class 'QLearning.QLearning'&gt;</td>\n      <td>200</td>\n      <td>4</td>\n      <td>3</td>\n      <td>0.6</td>\n      <td>25</td>\n      <td>100000</td>\n      <td>...</td>\n      <td>0.1</td>\n      <td>0.99</td>\n      <td>0</td>\n      <td>18.pickle</td>\n      <td>sparse</td>\n      <td>True</td>\n      <td>False</td>\n      <td>False</td>\n      <td>False</td>\n      <td>2</td>\n    </tr>\n    <tr>\n      <th>3</th>\n      <td>66.333333</td>\n      <td>39.8</td>\n      <td>0.399002</td>\n      <td>&lt;class 'QLearning.QLearning'&gt;</td>\n      <td>200</td>\n      <td>4</td>\n      <td>3</td>\n      <td>0.6</td>\n      <td>25</td>\n      <td>100000</td>\n      <td>...</td>\n      <td>0.1</td>\n      <td>0.99</td>\n      <td>0</td>\n      <td>18.pickle</td>\n      <td>sparse</td>\n      <td>False</td>\n      <td>False</td>\n      <td>False</td>\n      <td>False</td>\n      <td>2</td>\n    </tr>\n    <tr>\n      <th>4</th>\n      <td>66.333333</td>\n      <td>39.8</td>\n      <td>18.339051</td>\n      <td>&lt;class 'Dadca.Dadca'&gt;</td>\n      <td>200</td>\n      <td>4</td>\n      <td>3</td>\n      <td>0.6</td>\n      <td>25</td>\n      <td>100000</td>\n      <td>...</td>\n      <td>0.1</td>\n      <td>0.99</td>\n      <td>0</td>\n      <td>19.pickle</td>\n      <td>sparse</td>\n      <td>True</td>\n      <td>False</td>\n      <td>False</td>\n      <td>False</td>\n      <td>2</td>\n    </tr>\n  </tbody>\n</table>\n<p>5 rows × 22 columns</p>\n</div>"
     },
     "execution_count": 13,
     "metadata": {},
     "output_type": "execute_result"
    }
   ],
   "source": [
    "result_df = pd.json_normalize(result_file['results'])\n",
    "result_df.rename(columns=lambda c: c.replace('config.', ''), inplace=True)\n",
    "result_df.sort_values(by='expected_throughput', ignore_index=True, inplace=True)\n",
    "result_df.head()"
   ]
  },
  {
   "cell_type": "code",
   "execution_count": 14,
   "metadata": {},
   "outputs": [
    {
     "data": {
      "text/plain": "['maximum_simulation_steps', 'repetitions', 'controller', 'training']"
     },
     "execution_count": 14,
     "metadata": {},
     "output_type": "execute_result"
    }
   ],
   "source": [
    "variable_columns = result_file['campaign_variables']\n",
    "variable_columns"
   ]
  },
  {
   "cell_type": "code",
   "execution_count": 15,
   "metadata": {},
   "outputs": [
    {
     "data": {
      "text/plain": "   campaign_id  max_possible_throughput  expected_throughput  avg_throughput  \\\n0            0                66.333333                 39.8        1.162343   \n1            1                66.333333                 39.8       18.349933   \n2            2                66.333333                 39.8        3.405763   \n3            3                66.333333                 39.8        0.399002   \n4            4                66.333333                 39.8       18.339051   \n\n                      controller mission_size num_agents  \\\n0  <class 'QLearning.QLearning'>          200          4   \n1          <class 'Dadca.Dadca'>          200          4   \n2  <class 'QLearning.QLearning'>          200          4   \n3  <class 'QLearning.QLearning'>          200          4   \n4          <class 'Dadca.Dadca'>          200          4   \n\n  sensor_generation_frequency sensor_generation_probability  \\\n0                           3                           0.6   \n1                           3                           0.6   \n2                           3                           0.6   \n3                           3                           0.6   \n4                           3                           0.6   \n\n  sensor_packet_lifecycle  ... learning_rate gamma  \\\n0                      25  ...           0.1  0.99   \n1                      25  ...           0.1  0.99   \n2                      25  ...           0.1  0.99   \n3                      25  ...           0.1  0.99   \n4                      25  ...           0.1  0.99   \n\n  qtable_initialization_value qtable_file qtable_format training step_by_step  \\\n0                           0    0.pickle        sparse     True        False   \n1                           0   17.pickle        sparse     True        False   \n2                           0   18.pickle        sparse     True        False   \n3                           0   18.pickle        sparse    False        False   \n4                           0   19.pickle        sparse     True        False   \n\n   plots verbose repetitions  \n0  False   False           1  \n1  False   False           1  \n2  False   False           2  \n3  False   False           2  \n4  False   False           2  \n\n[5 rows x 23 columns]",
      "text/html": "<div>\n<style scoped>\n    .dataframe tbody tr th:only-of-type {\n        vertical-align: middle;\n    }\n\n    .dataframe tbody tr th {\n        vertical-align: top;\n    }\n\n    .dataframe thead th {\n        text-align: right;\n    }\n</style>\n<table border=\"1\" class=\"dataframe\">\n  <thead>\n    <tr style=\"text-align: right;\">\n      <th></th>\n      <th>campaign_id</th>\n      <th>max_possible_throughput</th>\n      <th>expected_throughput</th>\n      <th>avg_throughput</th>\n      <th>controller</th>\n      <th>mission_size</th>\n      <th>num_agents</th>\n      <th>sensor_generation_frequency</th>\n      <th>sensor_generation_probability</th>\n      <th>sensor_packet_lifecycle</th>\n      <th>...</th>\n      <th>learning_rate</th>\n      <th>gamma</th>\n      <th>qtable_initialization_value</th>\n      <th>qtable_file</th>\n      <th>qtable_format</th>\n      <th>training</th>\n      <th>step_by_step</th>\n      <th>plots</th>\n      <th>verbose</th>\n      <th>repetitions</th>\n    </tr>\n  </thead>\n  <tbody>\n    <tr>\n      <th>0</th>\n      <td>0</td>\n      <td>66.333333</td>\n      <td>39.8</td>\n      <td>1.162343</td>\n      <td>&lt;class 'QLearning.QLearning'&gt;</td>\n      <td>200</td>\n      <td>4</td>\n      <td>3</td>\n      <td>0.6</td>\n      <td>25</td>\n      <td>...</td>\n      <td>0.1</td>\n      <td>0.99</td>\n      <td>0</td>\n      <td>0.pickle</td>\n      <td>sparse</td>\n      <td>True</td>\n      <td>False</td>\n      <td>False</td>\n      <td>False</td>\n      <td>1</td>\n    </tr>\n    <tr>\n      <th>1</th>\n      <td>1</td>\n      <td>66.333333</td>\n      <td>39.8</td>\n      <td>18.349933</td>\n      <td>&lt;class 'Dadca.Dadca'&gt;</td>\n      <td>200</td>\n      <td>4</td>\n      <td>3</td>\n      <td>0.6</td>\n      <td>25</td>\n      <td>...</td>\n      <td>0.1</td>\n      <td>0.99</td>\n      <td>0</td>\n      <td>17.pickle</td>\n      <td>sparse</td>\n      <td>True</td>\n      <td>False</td>\n      <td>False</td>\n      <td>False</td>\n      <td>1</td>\n    </tr>\n    <tr>\n      <th>2</th>\n      <td>2</td>\n      <td>66.333333</td>\n      <td>39.8</td>\n      <td>3.405763</td>\n      <td>&lt;class 'QLearning.QLearning'&gt;</td>\n      <td>200</td>\n      <td>4</td>\n      <td>3</td>\n      <td>0.6</td>\n      <td>25</td>\n      <td>...</td>\n      <td>0.1</td>\n      <td>0.99</td>\n      <td>0</td>\n      <td>18.pickle</td>\n      <td>sparse</td>\n      <td>True</td>\n      <td>False</td>\n      <td>False</td>\n      <td>False</td>\n      <td>2</td>\n    </tr>\n    <tr>\n      <th>3</th>\n      <td>3</td>\n      <td>66.333333</td>\n      <td>39.8</td>\n      <td>0.399002</td>\n      <td>&lt;class 'QLearning.QLearning'&gt;</td>\n      <td>200</td>\n      <td>4</td>\n      <td>3</td>\n      <td>0.6</td>\n      <td>25</td>\n      <td>...</td>\n      <td>0.1</td>\n      <td>0.99</td>\n      <td>0</td>\n      <td>18.pickle</td>\n      <td>sparse</td>\n      <td>False</td>\n      <td>False</td>\n      <td>False</td>\n      <td>False</td>\n      <td>2</td>\n    </tr>\n    <tr>\n      <th>4</th>\n      <td>4</td>\n      <td>66.333333</td>\n      <td>39.8</td>\n      <td>18.339051</td>\n      <td>&lt;class 'Dadca.Dadca'&gt;</td>\n      <td>200</td>\n      <td>4</td>\n      <td>3</td>\n      <td>0.6</td>\n      <td>25</td>\n      <td>...</td>\n      <td>0.1</td>\n      <td>0.99</td>\n      <td>0</td>\n      <td>19.pickle</td>\n      <td>sparse</td>\n      <td>True</td>\n      <td>False</td>\n      <td>False</td>\n      <td>False</td>\n      <td>2</td>\n    </tr>\n  </tbody>\n</table>\n<p>5 rows × 23 columns</p>\n</div>"
     },
     "execution_count": 15,
     "metadata": {},
     "output_type": "execute_result"
    }
   ],
   "source": [
    "result_df.reset_index(inplace=True, names='campaign_id')\n",
    "result_df.head()"
   ]
  },
  {
   "cell_type": "code",
   "execution_count": 21,
   "metadata": {},
   "outputs": [
    {
     "data": {
      "application/vnd.plotly.v1+json": {
       "data": [
        {
         "hovertemplate": "<b>Expected Throughput: %{y}</b><extra></extra>",
         "name": "Expected Throughput",
         "x": [
          0,
          1,
          2,
          3,
          4,
          5,
          6,
          7,
          8,
          9,
          10,
          11,
          12,
          13,
          14,
          15,
          16,
          17,
          18,
          19,
          20,
          21,
          22,
          23,
          24,
          25,
          26,
          27,
          28,
          29,
          30,
          31,
          32,
          33,
          34,
          35,
          36,
          37,
          38,
          39,
          40,
          41,
          42,
          43,
          44,
          45,
          46,
          47
         ],
         "y": [
          39.8,
          39.8,
          39.8,
          39.8,
          39.8,
          39.8,
          39.8,
          39.8,
          39.8,
          39.8,
          39.8,
          39.8,
          39.8,
          39.8,
          39.8,
          39.8,
          39.8,
          39.8,
          39.8,
          39.8,
          39.8,
          39.8,
          39.8,
          39.8,
          39.8,
          39.8,
          39.8,
          39.8,
          39.8,
          39.8,
          39.8,
          39.8,
          39.8,
          39.8,
          39.8,
          39.8,
          39.8,
          39.8,
          39.8,
          39.8,
          39.8,
          39.8,
          39.8,
          39.8,
          39.8,
          39.8,
          39.8,
          39.8
         ],
         "type": "bar"
        },
        {
         "customdata": [
          [
           "1000",
           "1",
           "<class 'QLearning.QLearning'>",
           "True"
          ],
          [
           "100000",
           "1",
           "<class 'Dadca.Dadca'>",
           "True"
          ],
          [
           "100000",
           "2",
           "<class 'QLearning.QLearning'>",
           "True"
          ],
          [
           "100000",
           "2",
           "<class 'QLearning.QLearning'>",
           "False"
          ],
          [
           "100000",
           "2",
           "<class 'Dadca.Dadca'>",
           "True"
          ],
          [
           "100000",
           "3",
           "<class 'QLearning.QLearning'>",
           "True"
          ],
          [
           "100000",
           "3",
           "<class 'QLearning.QLearning'>",
           "False"
          ],
          [
           "100000",
           "3",
           "<class 'Dadca.Dadca'>",
           "True"
          ],
          [
           "100000",
           "5",
           "<class 'QLearning.QLearning'>",
           "True"
          ],
          [
           "100000",
           "5",
           "<class 'QLearning.QLearning'>",
           "False"
          ],
          [
           "100000",
           "1",
           "<class 'QLearning.QLearning'>",
           "False"
          ],
          [
           "100000",
           "5",
           "<class 'Dadca.Dadca'>",
           "True"
          ],
          [
           "1000000",
           "1",
           "<class 'QLearning.QLearning'>",
           "False"
          ],
          [
           "1000000",
           "1",
           "<class 'Dadca.Dadca'>",
           "True"
          ],
          [
           "1000000",
           "2",
           "<class 'QLearning.QLearning'>",
           "True"
          ],
          [
           "1000000",
           "2",
           "<class 'QLearning.QLearning'>",
           "False"
          ],
          [
           "1000000",
           "2",
           "<class 'Dadca.Dadca'>",
           "True"
          ],
          [
           "1000000",
           "3",
           "<class 'QLearning.QLearning'>",
           "True"
          ],
          [
           "1000000",
           "3",
           "<class 'QLearning.QLearning'>",
           "False"
          ],
          [
           "1000000",
           "3",
           "<class 'Dadca.Dadca'>",
           "True"
          ],
          [
           "1000000",
           "5",
           "<class 'QLearning.QLearning'>",
           "True"
          ],
          [
           "1000000",
           "1",
           "<class 'QLearning.QLearning'>",
           "True"
          ],
          [
           "100000",
           "1",
           "<class 'QLearning.QLearning'>",
           "True"
          ],
          [
           "10000",
           "5",
           "<class 'Dadca.Dadca'>",
           "True"
          ],
          [
           "10000",
           "5",
           "<class 'QLearning.QLearning'>",
           "False"
          ],
          [
           "1000",
           "1",
           "<class 'QLearning.QLearning'>",
           "False"
          ],
          [
           "1000",
           "1",
           "<class 'Dadca.Dadca'>",
           "True"
          ],
          [
           "1000",
           "2",
           "<class 'QLearning.QLearning'>",
           "True"
          ],
          [
           "1000",
           "2",
           "<class 'QLearning.QLearning'>",
           "False"
          ],
          [
           "1000",
           "2",
           "<class 'Dadca.Dadca'>",
           "True"
          ],
          [
           "1000",
           "3",
           "<class 'QLearning.QLearning'>",
           "True"
          ],
          [
           "1000",
           "3",
           "<class 'QLearning.QLearning'>",
           "False"
          ],
          [
           "1000",
           "3",
           "<class 'Dadca.Dadca'>",
           "True"
          ],
          [
           "1000",
           "5",
           "<class 'QLearning.QLearning'>",
           "True"
          ],
          [
           "1000",
           "5",
           "<class 'QLearning.QLearning'>",
           "False"
          ],
          [
           "1000",
           "5",
           "<class 'Dadca.Dadca'>",
           "True"
          ],
          [
           "10000",
           "1",
           "<class 'QLearning.QLearning'>",
           "True"
          ],
          [
           "10000",
           "1",
           "<class 'QLearning.QLearning'>",
           "False"
          ],
          [
           "10000",
           "1",
           "<class 'Dadca.Dadca'>",
           "True"
          ],
          [
           "10000",
           "2",
           "<class 'QLearning.QLearning'>",
           "True"
          ],
          [
           "10000",
           "2",
           "<class 'QLearning.QLearning'>",
           "False"
          ],
          [
           "10000",
           "2",
           "<class 'Dadca.Dadca'>",
           "True"
          ],
          [
           "10000",
           "3",
           "<class 'QLearning.QLearning'>",
           "True"
          ],
          [
           "10000",
           "3",
           "<class 'QLearning.QLearning'>",
           "False"
          ],
          [
           "10000",
           "3",
           "<class 'Dadca.Dadca'>",
           "True"
          ],
          [
           "10000",
           "5",
           "<class 'QLearning.QLearning'>",
           "True"
          ],
          [
           "1000000",
           "5",
           "<class 'QLearning.QLearning'>",
           "False"
          ],
          [
           "1000000",
           "5",
           "<class 'Dadca.Dadca'>",
           "True"
          ]
         ],
         "hovertemplate": "<b>Avg. Throughput: %{y}</b><br>maximum_simulation_steps: %{customdata[0]}<br>repetitions: %{customdata[1]}<br>controller: %{customdata[2]}<br>training: %{customdata[3]}<br><extra></extra>",
         "name": "Avg. Throughput",
         "x": [
          0,
          1,
          2,
          3,
          4,
          5,
          6,
          7,
          8,
          9,
          10,
          11,
          12,
          13,
          14,
          15,
          16,
          17,
          18,
          19,
          20,
          21,
          22,
          23,
          24,
          25,
          26,
          27,
          28,
          29,
          30,
          31,
          32,
          33,
          34,
          35,
          36,
          37,
          38,
          39,
          40,
          41,
          42,
          43,
          44,
          45,
          46,
          47
         ],
         "y": [
          1.1623430669099108,
          18.3499326661252,
          3.405762706506386,
          0.3990015248914046,
          18.33905143686383,
          3.2910462489270427,
          0.39973567770433727,
          18.340945236033846,
          3.6178454088591625,
          0.39940900458395173,
          0.39845761723860756,
          18.343870203424434,
          0.3992428223168706,
          18.581166980097645,
          4.427293026250276,
          1.7314993050012342E-4,
          18.580845738983722,
          4.635929610118656,
          0.40056084106403705,
          18.587132275240428,
          4.489779572153641,
          4.525666578083191,
          3.7017874018180423,
          16.648483191525365,
          0.41327586272076544,
          0.42156637946143116,
          8.51720597663295,
          1.279272124287762,
          0.20245970455051523,
          8.502431028175348,
          1.1975780939007445,
          0.388936472453546,
          8.455126129451823,
          0.9632965032254995,
          0.17473480474559827,
          8.504531501528012,
          2.770588557172577,
          0.39832340508008507,
          16.650214102920227,
          2.2718598889978225,
          0.39455053999418566,
          16.676288987105035,
          2.104295188510584,
          0.199820197357006,
          16.685140228927228,
          2.5574017951481203,
          0.2003597193544834,
          18.59196620993897
         ],
         "type": "bar"
        }
       ],
       "layout": {
        "template": {
         "data": {
          "histogram2dcontour": [
           {
            "type": "histogram2dcontour",
            "colorbar": {
             "outlinewidth": 0,
             "ticks": ""
            },
            "colorscale": [
             [
              0.0,
              "#0d0887"
             ],
             [
              0.1111111111111111,
              "#46039f"
             ],
             [
              0.2222222222222222,
              "#7201a8"
             ],
             [
              0.3333333333333333,
              "#9c179e"
             ],
             [
              0.4444444444444444,
              "#bd3786"
             ],
             [
              0.5555555555555556,
              "#d8576b"
             ],
             [
              0.6666666666666666,
              "#ed7953"
             ],
             [
              0.7777777777777778,
              "#fb9f3a"
             ],
             [
              0.8888888888888888,
              "#fdca26"
             ],
             [
              1.0,
              "#f0f921"
             ]
            ]
           }
          ],
          "choropleth": [
           {
            "type": "choropleth",
            "colorbar": {
             "outlinewidth": 0,
             "ticks": ""
            }
           }
          ],
          "histogram2d": [
           {
            "type": "histogram2d",
            "colorbar": {
             "outlinewidth": 0,
             "ticks": ""
            },
            "colorscale": [
             [
              0.0,
              "#0d0887"
             ],
             [
              0.1111111111111111,
              "#46039f"
             ],
             [
              0.2222222222222222,
              "#7201a8"
             ],
             [
              0.3333333333333333,
              "#9c179e"
             ],
             [
              0.4444444444444444,
              "#bd3786"
             ],
             [
              0.5555555555555556,
              "#d8576b"
             ],
             [
              0.6666666666666666,
              "#ed7953"
             ],
             [
              0.7777777777777778,
              "#fb9f3a"
             ],
             [
              0.8888888888888888,
              "#fdca26"
             ],
             [
              1.0,
              "#f0f921"
             ]
            ]
           }
          ],
          "heatmap": [
           {
            "type": "heatmap",
            "colorbar": {
             "outlinewidth": 0,
             "ticks": ""
            },
            "colorscale": [
             [
              0.0,
              "#0d0887"
             ],
             [
              0.1111111111111111,
              "#46039f"
             ],
             [
              0.2222222222222222,
              "#7201a8"
             ],
             [
              0.3333333333333333,
              "#9c179e"
             ],
             [
              0.4444444444444444,
              "#bd3786"
             ],
             [
              0.5555555555555556,
              "#d8576b"
             ],
             [
              0.6666666666666666,
              "#ed7953"
             ],
             [
              0.7777777777777778,
              "#fb9f3a"
             ],
             [
              0.8888888888888888,
              "#fdca26"
             ],
             [
              1.0,
              "#f0f921"
             ]
            ]
           }
          ],
          "heatmapgl": [
           {
            "type": "heatmapgl",
            "colorbar": {
             "outlinewidth": 0,
             "ticks": ""
            },
            "colorscale": [
             [
              0.0,
              "#0d0887"
             ],
             [
              0.1111111111111111,
              "#46039f"
             ],
             [
              0.2222222222222222,
              "#7201a8"
             ],
             [
              0.3333333333333333,
              "#9c179e"
             ],
             [
              0.4444444444444444,
              "#bd3786"
             ],
             [
              0.5555555555555556,
              "#d8576b"
             ],
             [
              0.6666666666666666,
              "#ed7953"
             ],
             [
              0.7777777777777778,
              "#fb9f3a"
             ],
             [
              0.8888888888888888,
              "#fdca26"
             ],
             [
              1.0,
              "#f0f921"
             ]
            ]
           }
          ],
          "contourcarpet": [
           {
            "type": "contourcarpet",
            "colorbar": {
             "outlinewidth": 0,
             "ticks": ""
            }
           }
          ],
          "contour": [
           {
            "type": "contour",
            "colorbar": {
             "outlinewidth": 0,
             "ticks": ""
            },
            "colorscale": [
             [
              0.0,
              "#0d0887"
             ],
             [
              0.1111111111111111,
              "#46039f"
             ],
             [
              0.2222222222222222,
              "#7201a8"
             ],
             [
              0.3333333333333333,
              "#9c179e"
             ],
             [
              0.4444444444444444,
              "#bd3786"
             ],
             [
              0.5555555555555556,
              "#d8576b"
             ],
             [
              0.6666666666666666,
              "#ed7953"
             ],
             [
              0.7777777777777778,
              "#fb9f3a"
             ],
             [
              0.8888888888888888,
              "#fdca26"
             ],
             [
              1.0,
              "#f0f921"
             ]
            ]
           }
          ],
          "surface": [
           {
            "type": "surface",
            "colorbar": {
             "outlinewidth": 0,
             "ticks": ""
            },
            "colorscale": [
             [
              0.0,
              "#0d0887"
             ],
             [
              0.1111111111111111,
              "#46039f"
             ],
             [
              0.2222222222222222,
              "#7201a8"
             ],
             [
              0.3333333333333333,
              "#9c179e"
             ],
             [
              0.4444444444444444,
              "#bd3786"
             ],
             [
              0.5555555555555556,
              "#d8576b"
             ],
             [
              0.6666666666666666,
              "#ed7953"
             ],
             [
              0.7777777777777778,
              "#fb9f3a"
             ],
             [
              0.8888888888888888,
              "#fdca26"
             ],
             [
              1.0,
              "#f0f921"
             ]
            ]
           }
          ],
          "mesh3d": [
           {
            "type": "mesh3d",
            "colorbar": {
             "outlinewidth": 0,
             "ticks": ""
            }
           }
          ],
          "scatter": [
           {
            "marker": {
             "line": {
              "color": "#283442"
             }
            },
            "type": "scatter"
           }
          ],
          "parcoords": [
           {
            "type": "parcoords",
            "line": {
             "colorbar": {
              "outlinewidth": 0,
              "ticks": ""
             }
            }
           }
          ],
          "scatterpolargl": [
           {
            "type": "scatterpolargl",
            "marker": {
             "colorbar": {
              "outlinewidth": 0,
              "ticks": ""
             }
            }
           }
          ],
          "bar": [
           {
            "error_x": {
             "color": "#f2f5fa"
            },
            "error_y": {
             "color": "#f2f5fa"
            },
            "marker": {
             "line": {
              "color": "rgb(17,17,17)",
              "width": 0.5
             },
             "pattern": {
              "fillmode": "overlay",
              "size": 10,
              "solidity": 0.2
             }
            },
            "type": "bar"
           }
          ],
          "scattergeo": [
           {
            "type": "scattergeo",
            "marker": {
             "colorbar": {
              "outlinewidth": 0,
              "ticks": ""
             }
            }
           }
          ],
          "scatterpolar": [
           {
            "type": "scatterpolar",
            "marker": {
             "colorbar": {
              "outlinewidth": 0,
              "ticks": ""
             }
            }
           }
          ],
          "histogram": [
           {
            "marker": {
             "pattern": {
              "fillmode": "overlay",
              "size": 10,
              "solidity": 0.2
             }
            },
            "type": "histogram"
           }
          ],
          "scattergl": [
           {
            "marker": {
             "line": {
              "color": "#283442"
             }
            },
            "type": "scattergl"
           }
          ],
          "scatter3d": [
           {
            "type": "scatter3d",
            "line": {
             "colorbar": {
              "outlinewidth": 0,
              "ticks": ""
             }
            },
            "marker": {
             "colorbar": {
              "outlinewidth": 0,
              "ticks": ""
             }
            }
           }
          ],
          "scattermapbox": [
           {
            "type": "scattermapbox",
            "marker": {
             "colorbar": {
              "outlinewidth": 0,
              "ticks": ""
             }
            }
           }
          ],
          "scatterternary": [
           {
            "type": "scatterternary",
            "marker": {
             "colorbar": {
              "outlinewidth": 0,
              "ticks": ""
             }
            }
           }
          ],
          "scattercarpet": [
           {
            "type": "scattercarpet",
            "marker": {
             "colorbar": {
              "outlinewidth": 0,
              "ticks": ""
             }
            }
           }
          ],
          "carpet": [
           {
            "aaxis": {
             "endlinecolor": "#A2B1C6",
             "gridcolor": "#506784",
             "linecolor": "#506784",
             "minorgridcolor": "#506784",
             "startlinecolor": "#A2B1C6"
            },
            "baxis": {
             "endlinecolor": "#A2B1C6",
             "gridcolor": "#506784",
             "linecolor": "#506784",
             "minorgridcolor": "#506784",
             "startlinecolor": "#A2B1C6"
            },
            "type": "carpet"
           }
          ],
          "table": [
           {
            "cells": {
             "fill": {
              "color": "#506784"
             },
             "line": {
              "color": "rgb(17,17,17)"
             }
            },
            "header": {
             "fill": {
              "color": "#2a3f5f"
             },
             "line": {
              "color": "rgb(17,17,17)"
             }
            },
            "type": "table"
           }
          ],
          "barpolar": [
           {
            "marker": {
             "line": {
              "color": "rgb(17,17,17)",
              "width": 0.5
             },
             "pattern": {
              "fillmode": "overlay",
              "size": 10,
              "solidity": 0.2
             }
            },
            "type": "barpolar"
           }
          ],
          "pie": [
           {
            "automargin": true,
            "type": "pie"
           }
          ]
         },
         "layout": {
          "autotypenumbers": "strict",
          "colorway": [
           "#636efa",
           "#EF553B",
           "#00cc96",
           "#ab63fa",
           "#FFA15A",
           "#19d3f3",
           "#FF6692",
           "#B6E880",
           "#FF97FF",
           "#FECB52"
          ],
          "font": {
           "color": "#f2f5fa"
          },
          "hovermode": "closest",
          "hoverlabel": {
           "align": "left"
          },
          "paper_bgcolor": "rgb(17,17,17)",
          "plot_bgcolor": "rgb(17,17,17)",
          "polar": {
           "bgcolor": "rgb(17,17,17)",
           "angularaxis": {
            "gridcolor": "#506784",
            "linecolor": "#506784",
            "ticks": ""
           },
           "radialaxis": {
            "gridcolor": "#506784",
            "linecolor": "#506784",
            "ticks": ""
           }
          },
          "ternary": {
           "bgcolor": "rgb(17,17,17)",
           "aaxis": {
            "gridcolor": "#506784",
            "linecolor": "#506784",
            "ticks": ""
           },
           "baxis": {
            "gridcolor": "#506784",
            "linecolor": "#506784",
            "ticks": ""
           },
           "caxis": {
            "gridcolor": "#506784",
            "linecolor": "#506784",
            "ticks": ""
           }
          },
          "coloraxis": {
           "colorbar": {
            "outlinewidth": 0,
            "ticks": ""
           }
          },
          "colorscale": {
           "sequential": [
            [
             0.0,
             "#0d0887"
            ],
            [
             0.1111111111111111,
             "#46039f"
            ],
            [
             0.2222222222222222,
             "#7201a8"
            ],
            [
             0.3333333333333333,
             "#9c179e"
            ],
            [
             0.4444444444444444,
             "#bd3786"
            ],
            [
             0.5555555555555556,
             "#d8576b"
            ],
            [
             0.6666666666666666,
             "#ed7953"
            ],
            [
             0.7777777777777778,
             "#fb9f3a"
            ],
            [
             0.8888888888888888,
             "#fdca26"
            ],
            [
             1.0,
             "#f0f921"
            ]
           ],
           "sequentialminus": [
            [
             0.0,
             "#0d0887"
            ],
            [
             0.1111111111111111,
             "#46039f"
            ],
            [
             0.2222222222222222,
             "#7201a8"
            ],
            [
             0.3333333333333333,
             "#9c179e"
            ],
            [
             0.4444444444444444,
             "#bd3786"
            ],
            [
             0.5555555555555556,
             "#d8576b"
            ],
            [
             0.6666666666666666,
             "#ed7953"
            ],
            [
             0.7777777777777778,
             "#fb9f3a"
            ],
            [
             0.8888888888888888,
             "#fdca26"
            ],
            [
             1.0,
             "#f0f921"
            ]
           ],
           "diverging": [
            [
             0,
             "#8e0152"
            ],
            [
             0.1,
             "#c51b7d"
            ],
            [
             0.2,
             "#de77ae"
            ],
            [
             0.3,
             "#f1b6da"
            ],
            [
             0.4,
             "#fde0ef"
            ],
            [
             0.5,
             "#f7f7f7"
            ],
            [
             0.6,
             "#e6f5d0"
            ],
            [
             0.7,
             "#b8e186"
            ],
            [
             0.8,
             "#7fbc41"
            ],
            [
             0.9,
             "#4d9221"
            ],
            [
             1,
             "#276419"
            ]
           ]
          },
          "xaxis": {
           "gridcolor": "#283442",
           "linecolor": "#506784",
           "ticks": "",
           "title": {
            "standoff": 15
           },
           "zerolinecolor": "#283442",
           "automargin": true,
           "zerolinewidth": 2
          },
          "yaxis": {
           "gridcolor": "#283442",
           "linecolor": "#506784",
           "ticks": "",
           "title": {
            "standoff": 15
           },
           "zerolinecolor": "#283442",
           "automargin": true,
           "zerolinewidth": 2
          },
          "scene": {
           "xaxis": {
            "backgroundcolor": "rgb(17,17,17)",
            "gridcolor": "#506784",
            "linecolor": "#506784",
            "showbackground": true,
            "ticks": "",
            "zerolinecolor": "#C8D4E3",
            "gridwidth": 2
           },
           "yaxis": {
            "backgroundcolor": "rgb(17,17,17)",
            "gridcolor": "#506784",
            "linecolor": "#506784",
            "showbackground": true,
            "ticks": "",
            "zerolinecolor": "#C8D4E3",
            "gridwidth": 2
           },
           "zaxis": {
            "backgroundcolor": "rgb(17,17,17)",
            "gridcolor": "#506784",
            "linecolor": "#506784",
            "showbackground": true,
            "ticks": "",
            "zerolinecolor": "#C8D4E3",
            "gridwidth": 2
           }
          },
          "shapedefaults": {
           "line": {
            "color": "#f2f5fa"
           }
          },
          "annotationdefaults": {
           "arrowcolor": "#f2f5fa",
           "arrowhead": 0,
           "arrowwidth": 1
          },
          "geo": {
           "bgcolor": "rgb(17,17,17)",
           "landcolor": "rgb(17,17,17)",
           "subunitcolor": "#506784",
           "showland": true,
           "showlakes": true,
           "lakecolor": "rgb(17,17,17)"
          },
          "title": {
           "x": 0.05
          },
          "updatemenudefaults": {
           "bgcolor": "#506784",
           "borderwidth": 0
          },
          "sliderdefaults": {
           "bgcolor": "#C8D4E3",
           "borderwidth": 1,
           "bordercolor": "rgb(17,17,17)",
           "tickwidth": 0
          },
          "mapbox": {
           "style": "dark"
          }
         }
        },
        "barmode": "overlay",
        "xaxis": {
         "title": {
          "text": "Campaign ID"
         },
         "ticktext": [
          "0",
          "1",
          "2",
          "3",
          "4",
          "5",
          "6",
          "7",
          "8",
          "9",
          "10",
          "11",
          "12",
          "13",
          "14",
          "15",
          "16",
          "17",
          "18",
          "19",
          "20",
          "21",
          "22",
          "23",
          "24",
          "25",
          "26",
          "27",
          "28",
          "29",
          "30",
          "31",
          "32",
          "33",
          "34",
          "35",
          "36",
          "37",
          "38",
          "39",
          "40",
          "41",
          "42",
          "43",
          "44",
          "45",
          "46",
          "47"
         ],
         "tickvals": [
          0,
          1,
          2,
          3,
          4,
          5,
          6,
          7,
          8,
          9,
          10,
          11,
          12,
          13,
          14,
          15,
          16,
          17,
          18,
          19,
          20,
          21,
          22,
          23,
          24,
          25,
          26,
          27,
          28,
          29,
          30,
          31,
          32,
          33,
          34,
          35,
          36,
          37,
          38,
          39,
          40,
          41,
          42,
          43,
          44,
          45,
          46,
          47
         ]
        },
        "yaxis": {
         "title": {
          "text": "Throughput (packets/step)"
         }
        },
        "hovermode": "x"
       },
       "config": {
        "plotlyServerURL": "https://plot.ly"
       }
      },
      "text/html": "<div>                            <div id=\"6ca7fefa-e860-4275-9dd7-88e2297f5324\" class=\"plotly-graph-div\" style=\"height:525px; width:100%;\"></div>            <script type=\"text/javascript\">                require([\"plotly\"], function(Plotly) {                    window.PLOTLYENV=window.PLOTLYENV || {};                                    if (document.getElementById(\"6ca7fefa-e860-4275-9dd7-88e2297f5324\")) {                    Plotly.newPlot(                        \"6ca7fefa-e860-4275-9dd7-88e2297f5324\",                        [{\"hovertemplate\":\"<b>Expected Throughput: %{y}</b><extra></extra>\",\"name\":\"Expected Throughput\",\"x\":[0,1,2,3,4,5,6,7,8,9,10,11,12,13,14,15,16,17,18,19,20,21,22,23,24,25,26,27,28,29,30,31,32,33,34,35,36,37,38,39,40,41,42,43,44,45,46,47],\"y\":[39.8,39.8,39.8,39.8,39.8,39.8,39.8,39.8,39.8,39.8,39.8,39.8,39.8,39.8,39.8,39.8,39.8,39.8,39.8,39.8,39.8,39.8,39.8,39.8,39.8,39.8,39.8,39.8,39.8,39.8,39.8,39.8,39.8,39.8,39.8,39.8,39.8,39.8,39.8,39.8,39.8,39.8,39.8,39.8,39.8,39.8,39.8,39.8],\"type\":\"bar\"},{\"customdata\":[[\"1000\",\"1\",\"<class 'QLearning.QLearning'>\",\"True\"],[\"100000\",\"1\",\"<class 'Dadca.Dadca'>\",\"True\"],[\"100000\",\"2\",\"<class 'QLearning.QLearning'>\",\"True\"],[\"100000\",\"2\",\"<class 'QLearning.QLearning'>\",\"False\"],[\"100000\",\"2\",\"<class 'Dadca.Dadca'>\",\"True\"],[\"100000\",\"3\",\"<class 'QLearning.QLearning'>\",\"True\"],[\"100000\",\"3\",\"<class 'QLearning.QLearning'>\",\"False\"],[\"100000\",\"3\",\"<class 'Dadca.Dadca'>\",\"True\"],[\"100000\",\"5\",\"<class 'QLearning.QLearning'>\",\"True\"],[\"100000\",\"5\",\"<class 'QLearning.QLearning'>\",\"False\"],[\"100000\",\"1\",\"<class 'QLearning.QLearning'>\",\"False\"],[\"100000\",\"5\",\"<class 'Dadca.Dadca'>\",\"True\"],[\"1000000\",\"1\",\"<class 'QLearning.QLearning'>\",\"False\"],[\"1000000\",\"1\",\"<class 'Dadca.Dadca'>\",\"True\"],[\"1000000\",\"2\",\"<class 'QLearning.QLearning'>\",\"True\"],[\"1000000\",\"2\",\"<class 'QLearning.QLearning'>\",\"False\"],[\"1000000\",\"2\",\"<class 'Dadca.Dadca'>\",\"True\"],[\"1000000\",\"3\",\"<class 'QLearning.QLearning'>\",\"True\"],[\"1000000\",\"3\",\"<class 'QLearning.QLearning'>\",\"False\"],[\"1000000\",\"3\",\"<class 'Dadca.Dadca'>\",\"True\"],[\"1000000\",\"5\",\"<class 'QLearning.QLearning'>\",\"True\"],[\"1000000\",\"1\",\"<class 'QLearning.QLearning'>\",\"True\"],[\"100000\",\"1\",\"<class 'QLearning.QLearning'>\",\"True\"],[\"10000\",\"5\",\"<class 'Dadca.Dadca'>\",\"True\"],[\"10000\",\"5\",\"<class 'QLearning.QLearning'>\",\"False\"],[\"1000\",\"1\",\"<class 'QLearning.QLearning'>\",\"False\"],[\"1000\",\"1\",\"<class 'Dadca.Dadca'>\",\"True\"],[\"1000\",\"2\",\"<class 'QLearning.QLearning'>\",\"True\"],[\"1000\",\"2\",\"<class 'QLearning.QLearning'>\",\"False\"],[\"1000\",\"2\",\"<class 'Dadca.Dadca'>\",\"True\"],[\"1000\",\"3\",\"<class 'QLearning.QLearning'>\",\"True\"],[\"1000\",\"3\",\"<class 'QLearning.QLearning'>\",\"False\"],[\"1000\",\"3\",\"<class 'Dadca.Dadca'>\",\"True\"],[\"1000\",\"5\",\"<class 'QLearning.QLearning'>\",\"True\"],[\"1000\",\"5\",\"<class 'QLearning.QLearning'>\",\"False\"],[\"1000\",\"5\",\"<class 'Dadca.Dadca'>\",\"True\"],[\"10000\",\"1\",\"<class 'QLearning.QLearning'>\",\"True\"],[\"10000\",\"1\",\"<class 'QLearning.QLearning'>\",\"False\"],[\"10000\",\"1\",\"<class 'Dadca.Dadca'>\",\"True\"],[\"10000\",\"2\",\"<class 'QLearning.QLearning'>\",\"True\"],[\"10000\",\"2\",\"<class 'QLearning.QLearning'>\",\"False\"],[\"10000\",\"2\",\"<class 'Dadca.Dadca'>\",\"True\"],[\"10000\",\"3\",\"<class 'QLearning.QLearning'>\",\"True\"],[\"10000\",\"3\",\"<class 'QLearning.QLearning'>\",\"False\"],[\"10000\",\"3\",\"<class 'Dadca.Dadca'>\",\"True\"],[\"10000\",\"5\",\"<class 'QLearning.QLearning'>\",\"True\"],[\"1000000\",\"5\",\"<class 'QLearning.QLearning'>\",\"False\"],[\"1000000\",\"5\",\"<class 'Dadca.Dadca'>\",\"True\"]],\"hovertemplate\":\"<b>Avg. Throughput: %{y}</b><br>maximum_simulation_steps: %{customdata[0]}<br>repetitions: %{customdata[1]}<br>controller: %{customdata[2]}<br>training: %{customdata[3]}<br><extra></extra>\",\"name\":\"Avg. Throughput\",\"x\":[0,1,2,3,4,5,6,7,8,9,10,11,12,13,14,15,16,17,18,19,20,21,22,23,24,25,26,27,28,29,30,31,32,33,34,35,36,37,38,39,40,41,42,43,44,45,46,47],\"y\":[1.1623430669099108,18.3499326661252,3.405762706506386,0.3990015248914046,18.33905143686383,3.2910462489270427,0.39973567770433727,18.340945236033846,3.6178454088591625,0.39940900458395173,0.39845761723860756,18.343870203424434,0.3992428223168706,18.581166980097645,4.427293026250276,0.00017314993050012342,18.580845738983722,4.635929610118656,0.40056084106403705,18.587132275240428,4.489779572153641,4.525666578083191,3.7017874018180423,16.648483191525365,0.41327586272076544,0.42156637946143116,8.51720597663295,1.279272124287762,0.20245970455051523,8.502431028175348,1.1975780939007445,0.388936472453546,8.455126129451823,0.9632965032254995,0.17473480474559827,8.504531501528012,2.770588557172577,0.39832340508008507,16.650214102920227,2.2718598889978225,0.39455053999418566,16.676288987105035,2.104295188510584,0.199820197357006,16.685140228927228,2.5574017951481203,0.2003597193544834,18.59196620993897],\"type\":\"bar\"}],                        {\"template\":{\"data\":{\"histogram2dcontour\":[{\"type\":\"histogram2dcontour\",\"colorbar\":{\"outlinewidth\":0,\"ticks\":\"\"},\"colorscale\":[[0.0,\"#0d0887\"],[0.1111111111111111,\"#46039f\"],[0.2222222222222222,\"#7201a8\"],[0.3333333333333333,\"#9c179e\"],[0.4444444444444444,\"#bd3786\"],[0.5555555555555556,\"#d8576b\"],[0.6666666666666666,\"#ed7953\"],[0.7777777777777778,\"#fb9f3a\"],[0.8888888888888888,\"#fdca26\"],[1.0,\"#f0f921\"]]}],\"choropleth\":[{\"type\":\"choropleth\",\"colorbar\":{\"outlinewidth\":0,\"ticks\":\"\"}}],\"histogram2d\":[{\"type\":\"histogram2d\",\"colorbar\":{\"outlinewidth\":0,\"ticks\":\"\"},\"colorscale\":[[0.0,\"#0d0887\"],[0.1111111111111111,\"#46039f\"],[0.2222222222222222,\"#7201a8\"],[0.3333333333333333,\"#9c179e\"],[0.4444444444444444,\"#bd3786\"],[0.5555555555555556,\"#d8576b\"],[0.6666666666666666,\"#ed7953\"],[0.7777777777777778,\"#fb9f3a\"],[0.8888888888888888,\"#fdca26\"],[1.0,\"#f0f921\"]]}],\"heatmap\":[{\"type\":\"heatmap\",\"colorbar\":{\"outlinewidth\":0,\"ticks\":\"\"},\"colorscale\":[[0.0,\"#0d0887\"],[0.1111111111111111,\"#46039f\"],[0.2222222222222222,\"#7201a8\"],[0.3333333333333333,\"#9c179e\"],[0.4444444444444444,\"#bd3786\"],[0.5555555555555556,\"#d8576b\"],[0.6666666666666666,\"#ed7953\"],[0.7777777777777778,\"#fb9f3a\"],[0.8888888888888888,\"#fdca26\"],[1.0,\"#f0f921\"]]}],\"heatmapgl\":[{\"type\":\"heatmapgl\",\"colorbar\":{\"outlinewidth\":0,\"ticks\":\"\"},\"colorscale\":[[0.0,\"#0d0887\"],[0.1111111111111111,\"#46039f\"],[0.2222222222222222,\"#7201a8\"],[0.3333333333333333,\"#9c179e\"],[0.4444444444444444,\"#bd3786\"],[0.5555555555555556,\"#d8576b\"],[0.6666666666666666,\"#ed7953\"],[0.7777777777777778,\"#fb9f3a\"],[0.8888888888888888,\"#fdca26\"],[1.0,\"#f0f921\"]]}],\"contourcarpet\":[{\"type\":\"contourcarpet\",\"colorbar\":{\"outlinewidth\":0,\"ticks\":\"\"}}],\"contour\":[{\"type\":\"contour\",\"colorbar\":{\"outlinewidth\":0,\"ticks\":\"\"},\"colorscale\":[[0.0,\"#0d0887\"],[0.1111111111111111,\"#46039f\"],[0.2222222222222222,\"#7201a8\"],[0.3333333333333333,\"#9c179e\"],[0.4444444444444444,\"#bd3786\"],[0.5555555555555556,\"#d8576b\"],[0.6666666666666666,\"#ed7953\"],[0.7777777777777778,\"#fb9f3a\"],[0.8888888888888888,\"#fdca26\"],[1.0,\"#f0f921\"]]}],\"surface\":[{\"type\":\"surface\",\"colorbar\":{\"outlinewidth\":0,\"ticks\":\"\"},\"colorscale\":[[0.0,\"#0d0887\"],[0.1111111111111111,\"#46039f\"],[0.2222222222222222,\"#7201a8\"],[0.3333333333333333,\"#9c179e\"],[0.4444444444444444,\"#bd3786\"],[0.5555555555555556,\"#d8576b\"],[0.6666666666666666,\"#ed7953\"],[0.7777777777777778,\"#fb9f3a\"],[0.8888888888888888,\"#fdca26\"],[1.0,\"#f0f921\"]]}],\"mesh3d\":[{\"type\":\"mesh3d\",\"colorbar\":{\"outlinewidth\":0,\"ticks\":\"\"}}],\"scatter\":[{\"marker\":{\"line\":{\"color\":\"#283442\"}},\"type\":\"scatter\"}],\"parcoords\":[{\"type\":\"parcoords\",\"line\":{\"colorbar\":{\"outlinewidth\":0,\"ticks\":\"\"}}}],\"scatterpolargl\":[{\"type\":\"scatterpolargl\",\"marker\":{\"colorbar\":{\"outlinewidth\":0,\"ticks\":\"\"}}}],\"bar\":[{\"error_x\":{\"color\":\"#f2f5fa\"},\"error_y\":{\"color\":\"#f2f5fa\"},\"marker\":{\"line\":{\"color\":\"rgb(17,17,17)\",\"width\":0.5},\"pattern\":{\"fillmode\":\"overlay\",\"size\":10,\"solidity\":0.2}},\"type\":\"bar\"}],\"scattergeo\":[{\"type\":\"scattergeo\",\"marker\":{\"colorbar\":{\"outlinewidth\":0,\"ticks\":\"\"}}}],\"scatterpolar\":[{\"type\":\"scatterpolar\",\"marker\":{\"colorbar\":{\"outlinewidth\":0,\"ticks\":\"\"}}}],\"histogram\":[{\"marker\":{\"pattern\":{\"fillmode\":\"overlay\",\"size\":10,\"solidity\":0.2}},\"type\":\"histogram\"}],\"scattergl\":[{\"marker\":{\"line\":{\"color\":\"#283442\"}},\"type\":\"scattergl\"}],\"scatter3d\":[{\"type\":\"scatter3d\",\"line\":{\"colorbar\":{\"outlinewidth\":0,\"ticks\":\"\"}},\"marker\":{\"colorbar\":{\"outlinewidth\":0,\"ticks\":\"\"}}}],\"scattermapbox\":[{\"type\":\"scattermapbox\",\"marker\":{\"colorbar\":{\"outlinewidth\":0,\"ticks\":\"\"}}}],\"scatterternary\":[{\"type\":\"scatterternary\",\"marker\":{\"colorbar\":{\"outlinewidth\":0,\"ticks\":\"\"}}}],\"scattercarpet\":[{\"type\":\"scattercarpet\",\"marker\":{\"colorbar\":{\"outlinewidth\":0,\"ticks\":\"\"}}}],\"carpet\":[{\"aaxis\":{\"endlinecolor\":\"#A2B1C6\",\"gridcolor\":\"#506784\",\"linecolor\":\"#506784\",\"minorgridcolor\":\"#506784\",\"startlinecolor\":\"#A2B1C6\"},\"baxis\":{\"endlinecolor\":\"#A2B1C6\",\"gridcolor\":\"#506784\",\"linecolor\":\"#506784\",\"minorgridcolor\":\"#506784\",\"startlinecolor\":\"#A2B1C6\"},\"type\":\"carpet\"}],\"table\":[{\"cells\":{\"fill\":{\"color\":\"#506784\"},\"line\":{\"color\":\"rgb(17,17,17)\"}},\"header\":{\"fill\":{\"color\":\"#2a3f5f\"},\"line\":{\"color\":\"rgb(17,17,17)\"}},\"type\":\"table\"}],\"barpolar\":[{\"marker\":{\"line\":{\"color\":\"rgb(17,17,17)\",\"width\":0.5},\"pattern\":{\"fillmode\":\"overlay\",\"size\":10,\"solidity\":0.2}},\"type\":\"barpolar\"}],\"pie\":[{\"automargin\":true,\"type\":\"pie\"}]},\"layout\":{\"autotypenumbers\":\"strict\",\"colorway\":[\"#636efa\",\"#EF553B\",\"#00cc96\",\"#ab63fa\",\"#FFA15A\",\"#19d3f3\",\"#FF6692\",\"#B6E880\",\"#FF97FF\",\"#FECB52\"],\"font\":{\"color\":\"#f2f5fa\"},\"hovermode\":\"closest\",\"hoverlabel\":{\"align\":\"left\"},\"paper_bgcolor\":\"rgb(17,17,17)\",\"plot_bgcolor\":\"rgb(17,17,17)\",\"polar\":{\"bgcolor\":\"rgb(17,17,17)\",\"angularaxis\":{\"gridcolor\":\"#506784\",\"linecolor\":\"#506784\",\"ticks\":\"\"},\"radialaxis\":{\"gridcolor\":\"#506784\",\"linecolor\":\"#506784\",\"ticks\":\"\"}},\"ternary\":{\"bgcolor\":\"rgb(17,17,17)\",\"aaxis\":{\"gridcolor\":\"#506784\",\"linecolor\":\"#506784\",\"ticks\":\"\"},\"baxis\":{\"gridcolor\":\"#506784\",\"linecolor\":\"#506784\",\"ticks\":\"\"},\"caxis\":{\"gridcolor\":\"#506784\",\"linecolor\":\"#506784\",\"ticks\":\"\"}},\"coloraxis\":{\"colorbar\":{\"outlinewidth\":0,\"ticks\":\"\"}},\"colorscale\":{\"sequential\":[[0.0,\"#0d0887\"],[0.1111111111111111,\"#46039f\"],[0.2222222222222222,\"#7201a8\"],[0.3333333333333333,\"#9c179e\"],[0.4444444444444444,\"#bd3786\"],[0.5555555555555556,\"#d8576b\"],[0.6666666666666666,\"#ed7953\"],[0.7777777777777778,\"#fb9f3a\"],[0.8888888888888888,\"#fdca26\"],[1.0,\"#f0f921\"]],\"sequentialminus\":[[0.0,\"#0d0887\"],[0.1111111111111111,\"#46039f\"],[0.2222222222222222,\"#7201a8\"],[0.3333333333333333,\"#9c179e\"],[0.4444444444444444,\"#bd3786\"],[0.5555555555555556,\"#d8576b\"],[0.6666666666666666,\"#ed7953\"],[0.7777777777777778,\"#fb9f3a\"],[0.8888888888888888,\"#fdca26\"],[1.0,\"#f0f921\"]],\"diverging\":[[0,\"#8e0152\"],[0.1,\"#c51b7d\"],[0.2,\"#de77ae\"],[0.3,\"#f1b6da\"],[0.4,\"#fde0ef\"],[0.5,\"#f7f7f7\"],[0.6,\"#e6f5d0\"],[0.7,\"#b8e186\"],[0.8,\"#7fbc41\"],[0.9,\"#4d9221\"],[1,\"#276419\"]]},\"xaxis\":{\"gridcolor\":\"#283442\",\"linecolor\":\"#506784\",\"ticks\":\"\",\"title\":{\"standoff\":15},\"zerolinecolor\":\"#283442\",\"automargin\":true,\"zerolinewidth\":2},\"yaxis\":{\"gridcolor\":\"#283442\",\"linecolor\":\"#506784\",\"ticks\":\"\",\"title\":{\"standoff\":15},\"zerolinecolor\":\"#283442\",\"automargin\":true,\"zerolinewidth\":2},\"scene\":{\"xaxis\":{\"backgroundcolor\":\"rgb(17,17,17)\",\"gridcolor\":\"#506784\",\"linecolor\":\"#506784\",\"showbackground\":true,\"ticks\":\"\",\"zerolinecolor\":\"#C8D4E3\",\"gridwidth\":2},\"yaxis\":{\"backgroundcolor\":\"rgb(17,17,17)\",\"gridcolor\":\"#506784\",\"linecolor\":\"#506784\",\"showbackground\":true,\"ticks\":\"\",\"zerolinecolor\":\"#C8D4E3\",\"gridwidth\":2},\"zaxis\":{\"backgroundcolor\":\"rgb(17,17,17)\",\"gridcolor\":\"#506784\",\"linecolor\":\"#506784\",\"showbackground\":true,\"ticks\":\"\",\"zerolinecolor\":\"#C8D4E3\",\"gridwidth\":2}},\"shapedefaults\":{\"line\":{\"color\":\"#f2f5fa\"}},\"annotationdefaults\":{\"arrowcolor\":\"#f2f5fa\",\"arrowhead\":0,\"arrowwidth\":1},\"geo\":{\"bgcolor\":\"rgb(17,17,17)\",\"landcolor\":\"rgb(17,17,17)\",\"subunitcolor\":\"#506784\",\"showland\":true,\"showlakes\":true,\"lakecolor\":\"rgb(17,17,17)\"},\"title\":{\"x\":0.05},\"updatemenudefaults\":{\"bgcolor\":\"#506784\",\"borderwidth\":0},\"sliderdefaults\":{\"bgcolor\":\"#C8D4E3\",\"borderwidth\":1,\"bordercolor\":\"rgb(17,17,17)\",\"tickwidth\":0},\"mapbox\":{\"style\":\"dark\"}}},\"barmode\":\"overlay\",\"xaxis\":{\"title\":{\"text\":\"Campaign ID\"},\"ticktext\":[\"0\",\"1\",\"2\",\"3\",\"4\",\"5\",\"6\",\"7\",\"8\",\"9\",\"10\",\"11\",\"12\",\"13\",\"14\",\"15\",\"16\",\"17\",\"18\",\"19\",\"20\",\"21\",\"22\",\"23\",\"24\",\"25\",\"26\",\"27\",\"28\",\"29\",\"30\",\"31\",\"32\",\"33\",\"34\",\"35\",\"36\",\"37\",\"38\",\"39\",\"40\",\"41\",\"42\",\"43\",\"44\",\"45\",\"46\",\"47\"],\"tickvals\":[0,1,2,3,4,5,6,7,8,9,10,11,12,13,14,15,16,17,18,19,20,21,22,23,24,25,26,27,28,29,30,31,32,33,34,35,36,37,38,39,40,41,42,43,44,45,46,47]},\"yaxis\":{\"title\":{\"text\":\"Throughput (packets/step)\"}},\"hovermode\":\"x\"},                        {\"responsive\": true}                    ).then(function(){\n                            \nvar gd = document.getElementById('6ca7fefa-e860-4275-9dd7-88e2297f5324');\nvar x = new MutationObserver(function (mutations, observer) {{\n        var display = window.getComputedStyle(gd).display;\n        if (!display || display === 'none') {{\n            console.log([gd, 'removed!']);\n            Plotly.purge(gd);\n            observer.disconnect();\n        }}\n}});\n\n// Listen for the removal of the full notebook cells\nvar notebookContainer = gd.closest('#notebook-container');\nif (notebookContainer) {{\n    x.observe(notebookContainer, {childList: true});\n}}\n\n// Listen for the clearing of the current output cell\nvar outputEl = gd.closest('.output');\nif (outputEl) {{\n    x.observe(outputEl, {childList: true});\n}}\n\n                        })                };                });            </script>        </div>"
     },
     "metadata": {},
     "output_type": "display_data"
    }
   ],
   "source": [
    "fig = go.Figure()\n",
    "\n",
    "fig.add_trace(go.Bar(\n",
    "    x=result_df['campaign_id'],\n",
    "    y=result_df['expected_throughput'],\n",
    "    name='Expected Throughput',\n",
    "    hovertemplate='<b>Expected Throughput: %{y}</b><extra></extra>'\n",
    "))\n",
    "\n",
    "\n",
    "campaign_hovertemplate = '<b>Avg. Throughput: %{y}</b><br>'\n",
    "for index, column in enumerate(variable_columns):\n",
    "    campaign_hovertemplate += column + ': %{customdata['+ str(index) + ']}<br>'\n",
    "campaign_hovertemplate += '<extra></extra>'\n",
    "\n",
    "fig.add_trace(go.Bar(\n",
    "    x=result_df['campaign_id'],\n",
    "    y=result_df['avg_throughput'],\n",
    "    name='Avg. Throughput',\n",
    "    customdata=result_df[variable_columns],\n",
    "    hovertemplate=campaign_hovertemplate\n",
    "))\n",
    "\n",
    "fig.update_layout(\n",
    "    barmode='overlay',\n",
    "    xaxis_title='Campaign ID',\n",
    "    yaxis_title='Throughput (packets/step)',\n",
    "    hovermode='x'\n",
    ")\n",
    "\n",
    "fig.update_xaxes(\n",
    "   ticktext=[str(i) for i in range(len(result_df))],\n",
    "   tickvals=[i for i in range(len(result_df))],\n",
    ")\n",
    "\n",
    "fig.show()"
   ]
  },
  {
   "cell_type": "code",
   "execution_count": 17,
   "metadata": {},
   "outputs": [],
   "source": [
    "result_df['score'] = result_df['avg_throughput'] / result_df['expected_throughput']"
   ]
  },
  {
   "cell_type": "code",
   "execution_count": 18,
   "metadata": {},
   "outputs": [
    {
     "data": {
      "application/vnd.plotly.v1+json": {
       "data": [
        {
         "customdata": [
          [
           "1000",
           "1",
           "<class 'QLearning.QLearning'>",
           "True"
          ],
          [
           "100000",
           "1",
           "<class 'Dadca.Dadca'>",
           "True"
          ],
          [
           "100000",
           "2",
           "<class 'QLearning.QLearning'>",
           "True"
          ],
          [
           "100000",
           "2",
           "<class 'QLearning.QLearning'>",
           "False"
          ],
          [
           "100000",
           "2",
           "<class 'Dadca.Dadca'>",
           "True"
          ],
          [
           "100000",
           "3",
           "<class 'QLearning.QLearning'>",
           "True"
          ],
          [
           "100000",
           "3",
           "<class 'QLearning.QLearning'>",
           "False"
          ],
          [
           "100000",
           "3",
           "<class 'Dadca.Dadca'>",
           "True"
          ],
          [
           "100000",
           "5",
           "<class 'QLearning.QLearning'>",
           "True"
          ],
          [
           "100000",
           "5",
           "<class 'QLearning.QLearning'>",
           "False"
          ],
          [
           "100000",
           "1",
           "<class 'QLearning.QLearning'>",
           "False"
          ],
          [
           "100000",
           "5",
           "<class 'Dadca.Dadca'>",
           "True"
          ],
          [
           "1000000",
           "1",
           "<class 'QLearning.QLearning'>",
           "False"
          ],
          [
           "1000000",
           "1",
           "<class 'Dadca.Dadca'>",
           "True"
          ],
          [
           "1000000",
           "2",
           "<class 'QLearning.QLearning'>",
           "True"
          ],
          [
           "1000000",
           "2",
           "<class 'QLearning.QLearning'>",
           "False"
          ],
          [
           "1000000",
           "2",
           "<class 'Dadca.Dadca'>",
           "True"
          ],
          [
           "1000000",
           "3",
           "<class 'QLearning.QLearning'>",
           "True"
          ],
          [
           "1000000",
           "3",
           "<class 'QLearning.QLearning'>",
           "False"
          ],
          [
           "1000000",
           "3",
           "<class 'Dadca.Dadca'>",
           "True"
          ],
          [
           "1000000",
           "5",
           "<class 'QLearning.QLearning'>",
           "True"
          ],
          [
           "1000000",
           "1",
           "<class 'QLearning.QLearning'>",
           "True"
          ],
          [
           "100000",
           "1",
           "<class 'QLearning.QLearning'>",
           "True"
          ],
          [
           "10000",
           "5",
           "<class 'Dadca.Dadca'>",
           "True"
          ],
          [
           "10000",
           "5",
           "<class 'QLearning.QLearning'>",
           "False"
          ],
          [
           "1000",
           "1",
           "<class 'QLearning.QLearning'>",
           "False"
          ],
          [
           "1000",
           "1",
           "<class 'Dadca.Dadca'>",
           "True"
          ],
          [
           "1000",
           "2",
           "<class 'QLearning.QLearning'>",
           "True"
          ],
          [
           "1000",
           "2",
           "<class 'QLearning.QLearning'>",
           "False"
          ],
          [
           "1000",
           "2",
           "<class 'Dadca.Dadca'>",
           "True"
          ],
          [
           "1000",
           "3",
           "<class 'QLearning.QLearning'>",
           "True"
          ],
          [
           "1000",
           "3",
           "<class 'QLearning.QLearning'>",
           "False"
          ],
          [
           "1000",
           "3",
           "<class 'Dadca.Dadca'>",
           "True"
          ],
          [
           "1000",
           "5",
           "<class 'QLearning.QLearning'>",
           "True"
          ],
          [
           "1000",
           "5",
           "<class 'QLearning.QLearning'>",
           "False"
          ],
          [
           "1000",
           "5",
           "<class 'Dadca.Dadca'>",
           "True"
          ],
          [
           "10000",
           "1",
           "<class 'QLearning.QLearning'>",
           "True"
          ],
          [
           "10000",
           "1",
           "<class 'QLearning.QLearning'>",
           "False"
          ],
          [
           "10000",
           "1",
           "<class 'Dadca.Dadca'>",
           "True"
          ],
          [
           "10000",
           "2",
           "<class 'QLearning.QLearning'>",
           "True"
          ],
          [
           "10000",
           "2",
           "<class 'QLearning.QLearning'>",
           "False"
          ],
          [
           "10000",
           "2",
           "<class 'Dadca.Dadca'>",
           "True"
          ],
          [
           "10000",
           "3",
           "<class 'QLearning.QLearning'>",
           "True"
          ],
          [
           "10000",
           "3",
           "<class 'QLearning.QLearning'>",
           "False"
          ],
          [
           "10000",
           "3",
           "<class 'Dadca.Dadca'>",
           "True"
          ],
          [
           "10000",
           "5",
           "<class 'QLearning.QLearning'>",
           "True"
          ],
          [
           "1000000",
           "5",
           "<class 'QLearning.QLearning'>",
           "False"
          ],
          [
           "1000000",
           "5",
           "<class 'Dadca.Dadca'>",
           "True"
          ]
         ],
         "hovertemplate": "<b>Score: %{y}</b><br>maximum_simulation_steps: %{customdata[0]}<br>repetitions: %{customdata[1]}<br>controller: %{customdata[2]}<br>training: %{customdata[3]}<br><extra></extra>",
         "name": "Avg. Throughput",
         "x": [
          0,
          1,
          2,
          3,
          4,
          5,
          6,
          7,
          8,
          9,
          10,
          11,
          12,
          13,
          14,
          15,
          16,
          17,
          18,
          19,
          20,
          21,
          22,
          23,
          24,
          25,
          26,
          27,
          28,
          29,
          30,
          31,
          32,
          33,
          34,
          35,
          36,
          37,
          38,
          39,
          40,
          41,
          42,
          43,
          44,
          45,
          46,
          47
         ],
         "y": [
          0.02920459967110329,
          0.46105358457601003,
          0.08557192729915543,
          0.010025163941995091,
          0.4607801868558752,
          0.08268960424439806,
          0.01004360999257129,
          0.46082776974959416,
          0.0909006384135468,
          0.010035402125224918,
          0.01001149792056803,
          0.46090126139257376,
          0.010031226691378658,
          0.4668634919622524,
          0.1112385182474944,
          4.35050076633476E-6,
          0.4668554205774805,
          0.116480643470318,
          0.01006434274030244,
          0.46701337374975954,
          0.11280853196365934,
          0.11371021552972843,
          0.09300973371402117,
          0.41830359777701925,
          0.01038381564625039,
          0.010592120086970634,
          0.21400015016665702,
          0.03214251568562217,
          0.005086927250012946,
          0.21362892030591327,
          0.030089901856802628,
          0.009772273177224775,
          0.21244035501135236,
          0.02420342972928391,
          0.004390321727276339,
          0.2136816960182918,
          0.06961277781840647,
          0.010008125755781033,
          0.4183470880130711,
          0.05708190675873926,
          0.00991333015060768,
          0.4190022358569105,
          0.05287173840478855,
          0.005020607973794122,
          0.4192246288675183,
          0.0642563265112593,
          0.005034163802876468,
          0.46713482939545153
         ],
         "type": "bar"
        }
       ],
       "layout": {
        "template": {
         "data": {
          "histogram2dcontour": [
           {
            "type": "histogram2dcontour",
            "colorbar": {
             "outlinewidth": 0,
             "ticks": ""
            },
            "colorscale": [
             [
              0.0,
              "#0d0887"
             ],
             [
              0.1111111111111111,
              "#46039f"
             ],
             [
              0.2222222222222222,
              "#7201a8"
             ],
             [
              0.3333333333333333,
              "#9c179e"
             ],
             [
              0.4444444444444444,
              "#bd3786"
             ],
             [
              0.5555555555555556,
              "#d8576b"
             ],
             [
              0.6666666666666666,
              "#ed7953"
             ],
             [
              0.7777777777777778,
              "#fb9f3a"
             ],
             [
              0.8888888888888888,
              "#fdca26"
             ],
             [
              1.0,
              "#f0f921"
             ]
            ]
           }
          ],
          "choropleth": [
           {
            "type": "choropleth",
            "colorbar": {
             "outlinewidth": 0,
             "ticks": ""
            }
           }
          ],
          "histogram2d": [
           {
            "type": "histogram2d",
            "colorbar": {
             "outlinewidth": 0,
             "ticks": ""
            },
            "colorscale": [
             [
              0.0,
              "#0d0887"
             ],
             [
              0.1111111111111111,
              "#46039f"
             ],
             [
              0.2222222222222222,
              "#7201a8"
             ],
             [
              0.3333333333333333,
              "#9c179e"
             ],
             [
              0.4444444444444444,
              "#bd3786"
             ],
             [
              0.5555555555555556,
              "#d8576b"
             ],
             [
              0.6666666666666666,
              "#ed7953"
             ],
             [
              0.7777777777777778,
              "#fb9f3a"
             ],
             [
              0.8888888888888888,
              "#fdca26"
             ],
             [
              1.0,
              "#f0f921"
             ]
            ]
           }
          ],
          "heatmap": [
           {
            "type": "heatmap",
            "colorbar": {
             "outlinewidth": 0,
             "ticks": ""
            },
            "colorscale": [
             [
              0.0,
              "#0d0887"
             ],
             [
              0.1111111111111111,
              "#46039f"
             ],
             [
              0.2222222222222222,
              "#7201a8"
             ],
             [
              0.3333333333333333,
              "#9c179e"
             ],
             [
              0.4444444444444444,
              "#bd3786"
             ],
             [
              0.5555555555555556,
              "#d8576b"
             ],
             [
              0.6666666666666666,
              "#ed7953"
             ],
             [
              0.7777777777777778,
              "#fb9f3a"
             ],
             [
              0.8888888888888888,
              "#fdca26"
             ],
             [
              1.0,
              "#f0f921"
             ]
            ]
           }
          ],
          "heatmapgl": [
           {
            "type": "heatmapgl",
            "colorbar": {
             "outlinewidth": 0,
             "ticks": ""
            },
            "colorscale": [
             [
              0.0,
              "#0d0887"
             ],
             [
              0.1111111111111111,
              "#46039f"
             ],
             [
              0.2222222222222222,
              "#7201a8"
             ],
             [
              0.3333333333333333,
              "#9c179e"
             ],
             [
              0.4444444444444444,
              "#bd3786"
             ],
             [
              0.5555555555555556,
              "#d8576b"
             ],
             [
              0.6666666666666666,
              "#ed7953"
             ],
             [
              0.7777777777777778,
              "#fb9f3a"
             ],
             [
              0.8888888888888888,
              "#fdca26"
             ],
             [
              1.0,
              "#f0f921"
             ]
            ]
           }
          ],
          "contourcarpet": [
           {
            "type": "contourcarpet",
            "colorbar": {
             "outlinewidth": 0,
             "ticks": ""
            }
           }
          ],
          "contour": [
           {
            "type": "contour",
            "colorbar": {
             "outlinewidth": 0,
             "ticks": ""
            },
            "colorscale": [
             [
              0.0,
              "#0d0887"
             ],
             [
              0.1111111111111111,
              "#46039f"
             ],
             [
              0.2222222222222222,
              "#7201a8"
             ],
             [
              0.3333333333333333,
              "#9c179e"
             ],
             [
              0.4444444444444444,
              "#bd3786"
             ],
             [
              0.5555555555555556,
              "#d8576b"
             ],
             [
              0.6666666666666666,
              "#ed7953"
             ],
             [
              0.7777777777777778,
              "#fb9f3a"
             ],
             [
              0.8888888888888888,
              "#fdca26"
             ],
             [
              1.0,
              "#f0f921"
             ]
            ]
           }
          ],
          "surface": [
           {
            "type": "surface",
            "colorbar": {
             "outlinewidth": 0,
             "ticks": ""
            },
            "colorscale": [
             [
              0.0,
              "#0d0887"
             ],
             [
              0.1111111111111111,
              "#46039f"
             ],
             [
              0.2222222222222222,
              "#7201a8"
             ],
             [
              0.3333333333333333,
              "#9c179e"
             ],
             [
              0.4444444444444444,
              "#bd3786"
             ],
             [
              0.5555555555555556,
              "#d8576b"
             ],
             [
              0.6666666666666666,
              "#ed7953"
             ],
             [
              0.7777777777777778,
              "#fb9f3a"
             ],
             [
              0.8888888888888888,
              "#fdca26"
             ],
             [
              1.0,
              "#f0f921"
             ]
            ]
           }
          ],
          "mesh3d": [
           {
            "type": "mesh3d",
            "colorbar": {
             "outlinewidth": 0,
             "ticks": ""
            }
           }
          ],
          "scatter": [
           {
            "marker": {
             "line": {
              "color": "#283442"
             }
            },
            "type": "scatter"
           }
          ],
          "parcoords": [
           {
            "type": "parcoords",
            "line": {
             "colorbar": {
              "outlinewidth": 0,
              "ticks": ""
             }
            }
           }
          ],
          "scatterpolargl": [
           {
            "type": "scatterpolargl",
            "marker": {
             "colorbar": {
              "outlinewidth": 0,
              "ticks": ""
             }
            }
           }
          ],
          "bar": [
           {
            "error_x": {
             "color": "#f2f5fa"
            },
            "error_y": {
             "color": "#f2f5fa"
            },
            "marker": {
             "line": {
              "color": "rgb(17,17,17)",
              "width": 0.5
             },
             "pattern": {
              "fillmode": "overlay",
              "size": 10,
              "solidity": 0.2
             }
            },
            "type": "bar"
           }
          ],
          "scattergeo": [
           {
            "type": "scattergeo",
            "marker": {
             "colorbar": {
              "outlinewidth": 0,
              "ticks": ""
             }
            }
           }
          ],
          "scatterpolar": [
           {
            "type": "scatterpolar",
            "marker": {
             "colorbar": {
              "outlinewidth": 0,
              "ticks": ""
             }
            }
           }
          ],
          "histogram": [
           {
            "marker": {
             "pattern": {
              "fillmode": "overlay",
              "size": 10,
              "solidity": 0.2
             }
            },
            "type": "histogram"
           }
          ],
          "scattergl": [
           {
            "marker": {
             "line": {
              "color": "#283442"
             }
            },
            "type": "scattergl"
           }
          ],
          "scatter3d": [
           {
            "type": "scatter3d",
            "line": {
             "colorbar": {
              "outlinewidth": 0,
              "ticks": ""
             }
            },
            "marker": {
             "colorbar": {
              "outlinewidth": 0,
              "ticks": ""
             }
            }
           }
          ],
          "scattermapbox": [
           {
            "type": "scattermapbox",
            "marker": {
             "colorbar": {
              "outlinewidth": 0,
              "ticks": ""
             }
            }
           }
          ],
          "scatterternary": [
           {
            "type": "scatterternary",
            "marker": {
             "colorbar": {
              "outlinewidth": 0,
              "ticks": ""
             }
            }
           }
          ],
          "scattercarpet": [
           {
            "type": "scattercarpet",
            "marker": {
             "colorbar": {
              "outlinewidth": 0,
              "ticks": ""
             }
            }
           }
          ],
          "carpet": [
           {
            "aaxis": {
             "endlinecolor": "#A2B1C6",
             "gridcolor": "#506784",
             "linecolor": "#506784",
             "minorgridcolor": "#506784",
             "startlinecolor": "#A2B1C6"
            },
            "baxis": {
             "endlinecolor": "#A2B1C6",
             "gridcolor": "#506784",
             "linecolor": "#506784",
             "minorgridcolor": "#506784",
             "startlinecolor": "#A2B1C6"
            },
            "type": "carpet"
           }
          ],
          "table": [
           {
            "cells": {
             "fill": {
              "color": "#506784"
             },
             "line": {
              "color": "rgb(17,17,17)"
             }
            },
            "header": {
             "fill": {
              "color": "#2a3f5f"
             },
             "line": {
              "color": "rgb(17,17,17)"
             }
            },
            "type": "table"
           }
          ],
          "barpolar": [
           {
            "marker": {
             "line": {
              "color": "rgb(17,17,17)",
              "width": 0.5
             },
             "pattern": {
              "fillmode": "overlay",
              "size": 10,
              "solidity": 0.2
             }
            },
            "type": "barpolar"
           }
          ],
          "pie": [
           {
            "automargin": true,
            "type": "pie"
           }
          ]
         },
         "layout": {
          "autotypenumbers": "strict",
          "colorway": [
           "#636efa",
           "#EF553B",
           "#00cc96",
           "#ab63fa",
           "#FFA15A",
           "#19d3f3",
           "#FF6692",
           "#B6E880",
           "#FF97FF",
           "#FECB52"
          ],
          "font": {
           "color": "#f2f5fa"
          },
          "hovermode": "closest",
          "hoverlabel": {
           "align": "left"
          },
          "paper_bgcolor": "rgb(17,17,17)",
          "plot_bgcolor": "rgb(17,17,17)",
          "polar": {
           "bgcolor": "rgb(17,17,17)",
           "angularaxis": {
            "gridcolor": "#506784",
            "linecolor": "#506784",
            "ticks": ""
           },
           "radialaxis": {
            "gridcolor": "#506784",
            "linecolor": "#506784",
            "ticks": ""
           }
          },
          "ternary": {
           "bgcolor": "rgb(17,17,17)",
           "aaxis": {
            "gridcolor": "#506784",
            "linecolor": "#506784",
            "ticks": ""
           },
           "baxis": {
            "gridcolor": "#506784",
            "linecolor": "#506784",
            "ticks": ""
           },
           "caxis": {
            "gridcolor": "#506784",
            "linecolor": "#506784",
            "ticks": ""
           }
          },
          "coloraxis": {
           "colorbar": {
            "outlinewidth": 0,
            "ticks": ""
           }
          },
          "colorscale": {
           "sequential": [
            [
             0.0,
             "#0d0887"
            ],
            [
             0.1111111111111111,
             "#46039f"
            ],
            [
             0.2222222222222222,
             "#7201a8"
            ],
            [
             0.3333333333333333,
             "#9c179e"
            ],
            [
             0.4444444444444444,
             "#bd3786"
            ],
            [
             0.5555555555555556,
             "#d8576b"
            ],
            [
             0.6666666666666666,
             "#ed7953"
            ],
            [
             0.7777777777777778,
             "#fb9f3a"
            ],
            [
             0.8888888888888888,
             "#fdca26"
            ],
            [
             1.0,
             "#f0f921"
            ]
           ],
           "sequentialminus": [
            [
             0.0,
             "#0d0887"
            ],
            [
             0.1111111111111111,
             "#46039f"
            ],
            [
             0.2222222222222222,
             "#7201a8"
            ],
            [
             0.3333333333333333,
             "#9c179e"
            ],
            [
             0.4444444444444444,
             "#bd3786"
            ],
            [
             0.5555555555555556,
             "#d8576b"
            ],
            [
             0.6666666666666666,
             "#ed7953"
            ],
            [
             0.7777777777777778,
             "#fb9f3a"
            ],
            [
             0.8888888888888888,
             "#fdca26"
            ],
            [
             1.0,
             "#f0f921"
            ]
           ],
           "diverging": [
            [
             0,
             "#8e0152"
            ],
            [
             0.1,
             "#c51b7d"
            ],
            [
             0.2,
             "#de77ae"
            ],
            [
             0.3,
             "#f1b6da"
            ],
            [
             0.4,
             "#fde0ef"
            ],
            [
             0.5,
             "#f7f7f7"
            ],
            [
             0.6,
             "#e6f5d0"
            ],
            [
             0.7,
             "#b8e186"
            ],
            [
             0.8,
             "#7fbc41"
            ],
            [
             0.9,
             "#4d9221"
            ],
            [
             1,
             "#276419"
            ]
           ]
          },
          "xaxis": {
           "gridcolor": "#283442",
           "linecolor": "#506784",
           "ticks": "",
           "title": {
            "standoff": 15
           },
           "zerolinecolor": "#283442",
           "automargin": true,
           "zerolinewidth": 2
          },
          "yaxis": {
           "gridcolor": "#283442",
           "linecolor": "#506784",
           "ticks": "",
           "title": {
            "standoff": 15
           },
           "zerolinecolor": "#283442",
           "automargin": true,
           "zerolinewidth": 2
          },
          "scene": {
           "xaxis": {
            "backgroundcolor": "rgb(17,17,17)",
            "gridcolor": "#506784",
            "linecolor": "#506784",
            "showbackground": true,
            "ticks": "",
            "zerolinecolor": "#C8D4E3",
            "gridwidth": 2
           },
           "yaxis": {
            "backgroundcolor": "rgb(17,17,17)",
            "gridcolor": "#506784",
            "linecolor": "#506784",
            "showbackground": true,
            "ticks": "",
            "zerolinecolor": "#C8D4E3",
            "gridwidth": 2
           },
           "zaxis": {
            "backgroundcolor": "rgb(17,17,17)",
            "gridcolor": "#506784",
            "linecolor": "#506784",
            "showbackground": true,
            "ticks": "",
            "zerolinecolor": "#C8D4E3",
            "gridwidth": 2
           }
          },
          "shapedefaults": {
           "line": {
            "color": "#f2f5fa"
           }
          },
          "annotationdefaults": {
           "arrowcolor": "#f2f5fa",
           "arrowhead": 0,
           "arrowwidth": 1
          },
          "geo": {
           "bgcolor": "rgb(17,17,17)",
           "landcolor": "rgb(17,17,17)",
           "subunitcolor": "#506784",
           "showland": true,
           "showlakes": true,
           "lakecolor": "rgb(17,17,17)"
          },
          "title": {
           "x": 0.05
          },
          "updatemenudefaults": {
           "bgcolor": "#506784",
           "borderwidth": 0
          },
          "sliderdefaults": {
           "bgcolor": "#C8D4E3",
           "borderwidth": 1,
           "bordercolor": "rgb(17,17,17)",
           "tickwidth": 0
          },
          "mapbox": {
           "style": "dark"
          }
         }
        },
        "barmode": "overlay",
        "xaxis": {
         "title": {
          "text": "Campaign ID"
         },
         "ticktext": [
          "0",
          "1",
          "2",
          "3",
          "4",
          "5",
          "6",
          "7",
          "8",
          "9",
          "10",
          "11",
          "12",
          "13",
          "14",
          "15",
          "16",
          "17",
          "18",
          "19",
          "20",
          "21",
          "22",
          "23"
         ],
         "tickvals": [
          0,
          1,
          2,
          3,
          4,
          5,
          6,
          7,
          8,
          9,
          10,
          11,
          12,
          13,
          14,
          15,
          16,
          17,
          18,
          19,
          20,
          21,
          22,
          23
         ]
        },
        "yaxis": {
         "title": {
          "text": "Throughput (packets/step)"
         }
        },
        "hovermode": "x"
       },
       "config": {
        "plotlyServerURL": "https://plot.ly"
       }
      },
      "text/html": "<div>                            <div id=\"8dac6092-4d0d-46d7-b6c0-208941346e40\" class=\"plotly-graph-div\" style=\"height:525px; width:100%;\"></div>            <script type=\"text/javascript\">                require([\"plotly\"], function(Plotly) {                    window.PLOTLYENV=window.PLOTLYENV || {};                                    if (document.getElementById(\"8dac6092-4d0d-46d7-b6c0-208941346e40\")) {                    Plotly.newPlot(                        \"8dac6092-4d0d-46d7-b6c0-208941346e40\",                        [{\"customdata\":[[\"1000\",\"1\",\"<class 'QLearning.QLearning'>\",\"True\"],[\"100000\",\"1\",\"<class 'Dadca.Dadca'>\",\"True\"],[\"100000\",\"2\",\"<class 'QLearning.QLearning'>\",\"True\"],[\"100000\",\"2\",\"<class 'QLearning.QLearning'>\",\"False\"],[\"100000\",\"2\",\"<class 'Dadca.Dadca'>\",\"True\"],[\"100000\",\"3\",\"<class 'QLearning.QLearning'>\",\"True\"],[\"100000\",\"3\",\"<class 'QLearning.QLearning'>\",\"False\"],[\"100000\",\"3\",\"<class 'Dadca.Dadca'>\",\"True\"],[\"100000\",\"5\",\"<class 'QLearning.QLearning'>\",\"True\"],[\"100000\",\"5\",\"<class 'QLearning.QLearning'>\",\"False\"],[\"100000\",\"1\",\"<class 'QLearning.QLearning'>\",\"False\"],[\"100000\",\"5\",\"<class 'Dadca.Dadca'>\",\"True\"],[\"1000000\",\"1\",\"<class 'QLearning.QLearning'>\",\"False\"],[\"1000000\",\"1\",\"<class 'Dadca.Dadca'>\",\"True\"],[\"1000000\",\"2\",\"<class 'QLearning.QLearning'>\",\"True\"],[\"1000000\",\"2\",\"<class 'QLearning.QLearning'>\",\"False\"],[\"1000000\",\"2\",\"<class 'Dadca.Dadca'>\",\"True\"],[\"1000000\",\"3\",\"<class 'QLearning.QLearning'>\",\"True\"],[\"1000000\",\"3\",\"<class 'QLearning.QLearning'>\",\"False\"],[\"1000000\",\"3\",\"<class 'Dadca.Dadca'>\",\"True\"],[\"1000000\",\"5\",\"<class 'QLearning.QLearning'>\",\"True\"],[\"1000000\",\"1\",\"<class 'QLearning.QLearning'>\",\"True\"],[\"100000\",\"1\",\"<class 'QLearning.QLearning'>\",\"True\"],[\"10000\",\"5\",\"<class 'Dadca.Dadca'>\",\"True\"],[\"10000\",\"5\",\"<class 'QLearning.QLearning'>\",\"False\"],[\"1000\",\"1\",\"<class 'QLearning.QLearning'>\",\"False\"],[\"1000\",\"1\",\"<class 'Dadca.Dadca'>\",\"True\"],[\"1000\",\"2\",\"<class 'QLearning.QLearning'>\",\"True\"],[\"1000\",\"2\",\"<class 'QLearning.QLearning'>\",\"False\"],[\"1000\",\"2\",\"<class 'Dadca.Dadca'>\",\"True\"],[\"1000\",\"3\",\"<class 'QLearning.QLearning'>\",\"True\"],[\"1000\",\"3\",\"<class 'QLearning.QLearning'>\",\"False\"],[\"1000\",\"3\",\"<class 'Dadca.Dadca'>\",\"True\"],[\"1000\",\"5\",\"<class 'QLearning.QLearning'>\",\"True\"],[\"1000\",\"5\",\"<class 'QLearning.QLearning'>\",\"False\"],[\"1000\",\"5\",\"<class 'Dadca.Dadca'>\",\"True\"],[\"10000\",\"1\",\"<class 'QLearning.QLearning'>\",\"True\"],[\"10000\",\"1\",\"<class 'QLearning.QLearning'>\",\"False\"],[\"10000\",\"1\",\"<class 'Dadca.Dadca'>\",\"True\"],[\"10000\",\"2\",\"<class 'QLearning.QLearning'>\",\"True\"],[\"10000\",\"2\",\"<class 'QLearning.QLearning'>\",\"False\"],[\"10000\",\"2\",\"<class 'Dadca.Dadca'>\",\"True\"],[\"10000\",\"3\",\"<class 'QLearning.QLearning'>\",\"True\"],[\"10000\",\"3\",\"<class 'QLearning.QLearning'>\",\"False\"],[\"10000\",\"3\",\"<class 'Dadca.Dadca'>\",\"True\"],[\"10000\",\"5\",\"<class 'QLearning.QLearning'>\",\"True\"],[\"1000000\",\"5\",\"<class 'QLearning.QLearning'>\",\"False\"],[\"1000000\",\"5\",\"<class 'Dadca.Dadca'>\",\"True\"]],\"hovertemplate\":\"<b>Score: %{y}</b><br>maximum_simulation_steps: %{customdata[0]}<br>repetitions: %{customdata[1]}<br>controller: %{customdata[2]}<br>training: %{customdata[3]}<br><extra></extra>\",\"name\":\"Avg. Throughput\",\"x\":[0,1,2,3,4,5,6,7,8,9,10,11,12,13,14,15,16,17,18,19,20,21,22,23,24,25,26,27,28,29,30,31,32,33,34,35,36,37,38,39,40,41,42,43,44,45,46,47],\"y\":[0.02920459967110329,0.46105358457601003,0.08557192729915543,0.010025163941995091,0.4607801868558752,0.08268960424439806,0.01004360999257129,0.46082776974959416,0.0909006384135468,0.010035402125224918,0.01001149792056803,0.46090126139257376,0.010031226691378658,0.4668634919622524,0.1112385182474944,4.35050076633476e-06,0.4668554205774805,0.116480643470318,0.01006434274030244,0.46701337374975954,0.11280853196365934,0.11371021552972843,0.09300973371402117,0.41830359777701925,0.01038381564625039,0.010592120086970634,0.21400015016665702,0.03214251568562217,0.005086927250012946,0.21362892030591327,0.030089901856802628,0.009772273177224775,0.21244035501135236,0.02420342972928391,0.004390321727276339,0.2136816960182918,0.06961277781840647,0.010008125755781033,0.4183470880130711,0.05708190675873926,0.00991333015060768,0.4190022358569105,0.05287173840478855,0.005020607973794122,0.4192246288675183,0.0642563265112593,0.005034163802876468,0.46713482939545153],\"type\":\"bar\"}],                        {\"template\":{\"data\":{\"histogram2dcontour\":[{\"type\":\"histogram2dcontour\",\"colorbar\":{\"outlinewidth\":0,\"ticks\":\"\"},\"colorscale\":[[0.0,\"#0d0887\"],[0.1111111111111111,\"#46039f\"],[0.2222222222222222,\"#7201a8\"],[0.3333333333333333,\"#9c179e\"],[0.4444444444444444,\"#bd3786\"],[0.5555555555555556,\"#d8576b\"],[0.6666666666666666,\"#ed7953\"],[0.7777777777777778,\"#fb9f3a\"],[0.8888888888888888,\"#fdca26\"],[1.0,\"#f0f921\"]]}],\"choropleth\":[{\"type\":\"choropleth\",\"colorbar\":{\"outlinewidth\":0,\"ticks\":\"\"}}],\"histogram2d\":[{\"type\":\"histogram2d\",\"colorbar\":{\"outlinewidth\":0,\"ticks\":\"\"},\"colorscale\":[[0.0,\"#0d0887\"],[0.1111111111111111,\"#46039f\"],[0.2222222222222222,\"#7201a8\"],[0.3333333333333333,\"#9c179e\"],[0.4444444444444444,\"#bd3786\"],[0.5555555555555556,\"#d8576b\"],[0.6666666666666666,\"#ed7953\"],[0.7777777777777778,\"#fb9f3a\"],[0.8888888888888888,\"#fdca26\"],[1.0,\"#f0f921\"]]}],\"heatmap\":[{\"type\":\"heatmap\",\"colorbar\":{\"outlinewidth\":0,\"ticks\":\"\"},\"colorscale\":[[0.0,\"#0d0887\"],[0.1111111111111111,\"#46039f\"],[0.2222222222222222,\"#7201a8\"],[0.3333333333333333,\"#9c179e\"],[0.4444444444444444,\"#bd3786\"],[0.5555555555555556,\"#d8576b\"],[0.6666666666666666,\"#ed7953\"],[0.7777777777777778,\"#fb9f3a\"],[0.8888888888888888,\"#fdca26\"],[1.0,\"#f0f921\"]]}],\"heatmapgl\":[{\"type\":\"heatmapgl\",\"colorbar\":{\"outlinewidth\":0,\"ticks\":\"\"},\"colorscale\":[[0.0,\"#0d0887\"],[0.1111111111111111,\"#46039f\"],[0.2222222222222222,\"#7201a8\"],[0.3333333333333333,\"#9c179e\"],[0.4444444444444444,\"#bd3786\"],[0.5555555555555556,\"#d8576b\"],[0.6666666666666666,\"#ed7953\"],[0.7777777777777778,\"#fb9f3a\"],[0.8888888888888888,\"#fdca26\"],[1.0,\"#f0f921\"]]}],\"contourcarpet\":[{\"type\":\"contourcarpet\",\"colorbar\":{\"outlinewidth\":0,\"ticks\":\"\"}}],\"contour\":[{\"type\":\"contour\",\"colorbar\":{\"outlinewidth\":0,\"ticks\":\"\"},\"colorscale\":[[0.0,\"#0d0887\"],[0.1111111111111111,\"#46039f\"],[0.2222222222222222,\"#7201a8\"],[0.3333333333333333,\"#9c179e\"],[0.4444444444444444,\"#bd3786\"],[0.5555555555555556,\"#d8576b\"],[0.6666666666666666,\"#ed7953\"],[0.7777777777777778,\"#fb9f3a\"],[0.8888888888888888,\"#fdca26\"],[1.0,\"#f0f921\"]]}],\"surface\":[{\"type\":\"surface\",\"colorbar\":{\"outlinewidth\":0,\"ticks\":\"\"},\"colorscale\":[[0.0,\"#0d0887\"],[0.1111111111111111,\"#46039f\"],[0.2222222222222222,\"#7201a8\"],[0.3333333333333333,\"#9c179e\"],[0.4444444444444444,\"#bd3786\"],[0.5555555555555556,\"#d8576b\"],[0.6666666666666666,\"#ed7953\"],[0.7777777777777778,\"#fb9f3a\"],[0.8888888888888888,\"#fdca26\"],[1.0,\"#f0f921\"]]}],\"mesh3d\":[{\"type\":\"mesh3d\",\"colorbar\":{\"outlinewidth\":0,\"ticks\":\"\"}}],\"scatter\":[{\"marker\":{\"line\":{\"color\":\"#283442\"}},\"type\":\"scatter\"}],\"parcoords\":[{\"type\":\"parcoords\",\"line\":{\"colorbar\":{\"outlinewidth\":0,\"ticks\":\"\"}}}],\"scatterpolargl\":[{\"type\":\"scatterpolargl\",\"marker\":{\"colorbar\":{\"outlinewidth\":0,\"ticks\":\"\"}}}],\"bar\":[{\"error_x\":{\"color\":\"#f2f5fa\"},\"error_y\":{\"color\":\"#f2f5fa\"},\"marker\":{\"line\":{\"color\":\"rgb(17,17,17)\",\"width\":0.5},\"pattern\":{\"fillmode\":\"overlay\",\"size\":10,\"solidity\":0.2}},\"type\":\"bar\"}],\"scattergeo\":[{\"type\":\"scattergeo\",\"marker\":{\"colorbar\":{\"outlinewidth\":0,\"ticks\":\"\"}}}],\"scatterpolar\":[{\"type\":\"scatterpolar\",\"marker\":{\"colorbar\":{\"outlinewidth\":0,\"ticks\":\"\"}}}],\"histogram\":[{\"marker\":{\"pattern\":{\"fillmode\":\"overlay\",\"size\":10,\"solidity\":0.2}},\"type\":\"histogram\"}],\"scattergl\":[{\"marker\":{\"line\":{\"color\":\"#283442\"}},\"type\":\"scattergl\"}],\"scatter3d\":[{\"type\":\"scatter3d\",\"line\":{\"colorbar\":{\"outlinewidth\":0,\"ticks\":\"\"}},\"marker\":{\"colorbar\":{\"outlinewidth\":0,\"ticks\":\"\"}}}],\"scattermapbox\":[{\"type\":\"scattermapbox\",\"marker\":{\"colorbar\":{\"outlinewidth\":0,\"ticks\":\"\"}}}],\"scatterternary\":[{\"type\":\"scatterternary\",\"marker\":{\"colorbar\":{\"outlinewidth\":0,\"ticks\":\"\"}}}],\"scattercarpet\":[{\"type\":\"scattercarpet\",\"marker\":{\"colorbar\":{\"outlinewidth\":0,\"ticks\":\"\"}}}],\"carpet\":[{\"aaxis\":{\"endlinecolor\":\"#A2B1C6\",\"gridcolor\":\"#506784\",\"linecolor\":\"#506784\",\"minorgridcolor\":\"#506784\",\"startlinecolor\":\"#A2B1C6\"},\"baxis\":{\"endlinecolor\":\"#A2B1C6\",\"gridcolor\":\"#506784\",\"linecolor\":\"#506784\",\"minorgridcolor\":\"#506784\",\"startlinecolor\":\"#A2B1C6\"},\"type\":\"carpet\"}],\"table\":[{\"cells\":{\"fill\":{\"color\":\"#506784\"},\"line\":{\"color\":\"rgb(17,17,17)\"}},\"header\":{\"fill\":{\"color\":\"#2a3f5f\"},\"line\":{\"color\":\"rgb(17,17,17)\"}},\"type\":\"table\"}],\"barpolar\":[{\"marker\":{\"line\":{\"color\":\"rgb(17,17,17)\",\"width\":0.5},\"pattern\":{\"fillmode\":\"overlay\",\"size\":10,\"solidity\":0.2}},\"type\":\"barpolar\"}],\"pie\":[{\"automargin\":true,\"type\":\"pie\"}]},\"layout\":{\"autotypenumbers\":\"strict\",\"colorway\":[\"#636efa\",\"#EF553B\",\"#00cc96\",\"#ab63fa\",\"#FFA15A\",\"#19d3f3\",\"#FF6692\",\"#B6E880\",\"#FF97FF\",\"#FECB52\"],\"font\":{\"color\":\"#f2f5fa\"},\"hovermode\":\"closest\",\"hoverlabel\":{\"align\":\"left\"},\"paper_bgcolor\":\"rgb(17,17,17)\",\"plot_bgcolor\":\"rgb(17,17,17)\",\"polar\":{\"bgcolor\":\"rgb(17,17,17)\",\"angularaxis\":{\"gridcolor\":\"#506784\",\"linecolor\":\"#506784\",\"ticks\":\"\"},\"radialaxis\":{\"gridcolor\":\"#506784\",\"linecolor\":\"#506784\",\"ticks\":\"\"}},\"ternary\":{\"bgcolor\":\"rgb(17,17,17)\",\"aaxis\":{\"gridcolor\":\"#506784\",\"linecolor\":\"#506784\",\"ticks\":\"\"},\"baxis\":{\"gridcolor\":\"#506784\",\"linecolor\":\"#506784\",\"ticks\":\"\"},\"caxis\":{\"gridcolor\":\"#506784\",\"linecolor\":\"#506784\",\"ticks\":\"\"}},\"coloraxis\":{\"colorbar\":{\"outlinewidth\":0,\"ticks\":\"\"}},\"colorscale\":{\"sequential\":[[0.0,\"#0d0887\"],[0.1111111111111111,\"#46039f\"],[0.2222222222222222,\"#7201a8\"],[0.3333333333333333,\"#9c179e\"],[0.4444444444444444,\"#bd3786\"],[0.5555555555555556,\"#d8576b\"],[0.6666666666666666,\"#ed7953\"],[0.7777777777777778,\"#fb9f3a\"],[0.8888888888888888,\"#fdca26\"],[1.0,\"#f0f921\"]],\"sequentialminus\":[[0.0,\"#0d0887\"],[0.1111111111111111,\"#46039f\"],[0.2222222222222222,\"#7201a8\"],[0.3333333333333333,\"#9c179e\"],[0.4444444444444444,\"#bd3786\"],[0.5555555555555556,\"#d8576b\"],[0.6666666666666666,\"#ed7953\"],[0.7777777777777778,\"#fb9f3a\"],[0.8888888888888888,\"#fdca26\"],[1.0,\"#f0f921\"]],\"diverging\":[[0,\"#8e0152\"],[0.1,\"#c51b7d\"],[0.2,\"#de77ae\"],[0.3,\"#f1b6da\"],[0.4,\"#fde0ef\"],[0.5,\"#f7f7f7\"],[0.6,\"#e6f5d0\"],[0.7,\"#b8e186\"],[0.8,\"#7fbc41\"],[0.9,\"#4d9221\"],[1,\"#276419\"]]},\"xaxis\":{\"gridcolor\":\"#283442\",\"linecolor\":\"#506784\",\"ticks\":\"\",\"title\":{\"standoff\":15},\"zerolinecolor\":\"#283442\",\"automargin\":true,\"zerolinewidth\":2},\"yaxis\":{\"gridcolor\":\"#283442\",\"linecolor\":\"#506784\",\"ticks\":\"\",\"title\":{\"standoff\":15},\"zerolinecolor\":\"#283442\",\"automargin\":true,\"zerolinewidth\":2},\"scene\":{\"xaxis\":{\"backgroundcolor\":\"rgb(17,17,17)\",\"gridcolor\":\"#506784\",\"linecolor\":\"#506784\",\"showbackground\":true,\"ticks\":\"\",\"zerolinecolor\":\"#C8D4E3\",\"gridwidth\":2},\"yaxis\":{\"backgroundcolor\":\"rgb(17,17,17)\",\"gridcolor\":\"#506784\",\"linecolor\":\"#506784\",\"showbackground\":true,\"ticks\":\"\",\"zerolinecolor\":\"#C8D4E3\",\"gridwidth\":2},\"zaxis\":{\"backgroundcolor\":\"rgb(17,17,17)\",\"gridcolor\":\"#506784\",\"linecolor\":\"#506784\",\"showbackground\":true,\"ticks\":\"\",\"zerolinecolor\":\"#C8D4E3\",\"gridwidth\":2}},\"shapedefaults\":{\"line\":{\"color\":\"#f2f5fa\"}},\"annotationdefaults\":{\"arrowcolor\":\"#f2f5fa\",\"arrowhead\":0,\"arrowwidth\":1},\"geo\":{\"bgcolor\":\"rgb(17,17,17)\",\"landcolor\":\"rgb(17,17,17)\",\"subunitcolor\":\"#506784\",\"showland\":true,\"showlakes\":true,\"lakecolor\":\"rgb(17,17,17)\"},\"title\":{\"x\":0.05},\"updatemenudefaults\":{\"bgcolor\":\"#506784\",\"borderwidth\":0},\"sliderdefaults\":{\"bgcolor\":\"#C8D4E3\",\"borderwidth\":1,\"bordercolor\":\"rgb(17,17,17)\",\"tickwidth\":0},\"mapbox\":{\"style\":\"dark\"}}},\"barmode\":\"overlay\",\"xaxis\":{\"title\":{\"text\":\"Campaign ID\"},\"ticktext\":[\"0\",\"1\",\"2\",\"3\",\"4\",\"5\",\"6\",\"7\",\"8\",\"9\",\"10\",\"11\",\"12\",\"13\",\"14\",\"15\",\"16\",\"17\",\"18\",\"19\",\"20\",\"21\",\"22\",\"23\"],\"tickvals\":[0,1,2,3,4,5,6,7,8,9,10,11,12,13,14,15,16,17,18,19,20,21,22,23]},\"yaxis\":{\"title\":{\"text\":\"Throughput (packets/step)\"}},\"hovermode\":\"x\"},                        {\"responsive\": true}                    ).then(function(){\n                            \nvar gd = document.getElementById('8dac6092-4d0d-46d7-b6c0-208941346e40');\nvar x = new MutationObserver(function (mutations, observer) {{\n        var display = window.getComputedStyle(gd).display;\n        if (!display || display === 'none') {{\n            console.log([gd, 'removed!']);\n            Plotly.purge(gd);\n            observer.disconnect();\n        }}\n}});\n\n// Listen for the removal of the full notebook cells\nvar notebookContainer = gd.closest('#notebook-container');\nif (notebookContainer) {{\n    x.observe(notebookContainer, {childList: true});\n}}\n\n// Listen for the clearing of the current output cell\nvar outputEl = gd.closest('.output');\nif (outputEl) {{\n    x.observe(outputEl, {childList: true});\n}}\n\n                        })                };                });            </script>        </div>"
     },
     "metadata": {},
     "output_type": "display_data"
    }
   ],
   "source": [
    "fig = go.Figure()\n",
    "\n",
    "campaign_hovertemplate = '<b>Score: %{y}</b><br>'\n",
    "for index, column in enumerate(variable_columns):\n",
    "    campaign_hovertemplate += column + ': %{customdata['+ str(index) + ']}<br>'\n",
    "campaign_hovertemplate += '<extra></extra>'\n",
    "\n",
    "fig.add_trace(go.Bar(\n",
    "    x=result_df['campaign_id'],\n",
    "    y=result_df['score'],\n",
    "    name='Avg. Throughput',\n",
    "    customdata=result_df[variable_columns],\n",
    "    hovertemplate=campaign_hovertemplate\n",
    "))\n",
    "\n",
    "fig.update_layout(\n",
    "    barmode='overlay',\n",
    "    xaxis_title='Campaign ID',\n",
    "    yaxis_title='Throughput (packets/step)',\n",
    "    hovermode='x'\n",
    ")\n",
    "\n",
    "fig.update_xaxes(\n",
    "   ticktext=[str(i) for i in range(24)],\n",
    "   tickvals=[i for i in range(24)],\n",
    ")\n",
    "\n",
    "fig.show()"
   ]
  },
  {
   "cell_type": "code",
   "execution_count": 19,
   "metadata": {},
   "outputs": [
    {
     "data": {
      "text/plain": "<Figure size 640x480 with 1 Axes>",
      "image/png": "[encoded data removed]"
     },
     "metadata": {},
     "output_type": "display_data"
    },
    {
     "data": {
      "text/plain": "<Figure size 640x480 with 1 Axes>",
      "image/png": "[encoded data removed]"
     },
     "metadata": {},
     "output_type": "display_data"
    },
    {
     "data": {
      "text/plain": "<Figure size 640x480 with 1 Axes>",
      "image/png": "[encoded data removed]"
     },
     "metadata": {},
     "output_type": "display_data"
    },
    {
     "data": {
      "text/plain": "<Figure size 640x480 with 1 Axes>",
      "image/png": "[encoded data removed]"
     },
     "metadata": {},
     "output_type": "display_data"
    },
    {
     "data": {
      "text/plain": "<Figure size 640x480 with 1 Axes>",
      "image/png": "[encoded data removed]"
     },
     "metadata": {},
     "output_type": "display_data"
    },
    {
     "data": {
      "text/plain": "<Figure size 640x480 with 1 Axes>",
      "image/png": "[encoded data removed]"
     },
     "metadata": {},
     "output_type": "display_data"
    },
    {
     "data": {
      "text/plain": "<Figure size 640x480 with 1 Axes>",
      "image/png": "[encoded data removed]"
     },
     "metadata": {},
     "output_type": "display_data"
    },
    {
     "data": {
      "text/plain": "<Figure size 640x480 with 1 Axes>",
      "image/png": "[encoded data removed]"
     },
     "metadata": {},
     "output_type": "display_data"
    },
    {
     "data": {
      "text/plain": "<Figure size 640x480 with 1 Axes>",
      "image/png": "[encoded data removed]"
     },
     "metadata": {},
     "output_type": "display_data"
    },
    {
     "data": {
      "text/plain": "<Figure size 640x480 with 1 Axes>",
      "image/png": "[encoded data removed]"
     },
     "metadata": {},
     "output_type": "display_data"
    },
    {
     "data": {
      "text/plain": "<Figure size 640x480 with 1 Axes>",
      "image/png": "[encoded data removed]"
     },
     "metadata": {},
     "output_type": "display_data"
    },
    {
     "data": {
      "text/plain": "<Figure size 640x480 with 1 Axes>",
      "image/png": "[encoded data removed]"
     },
     "metadata": {},
     "output_type": "display_data"
    }
   ],
   "source": [
    "for column in variable_columns:\n",
    "    for other_column in variable_columns:\n",
    "        if other_column == column:\n",
    "            continue\n",
    "        df = result_df.pivot_table(values='score', columns=other_column, index=column)\n",
    "        ax = sns.heatmap(df, annot=True, cbar=False)\n",
    "        ax.xaxis.tick_top()\n",
    "        ax.yaxis.tick_right()\n",
    "        ax.tick_params(axis=\"y\", rotation=0)\n",
    "        plt.show()"
   ]
  },
  {
   "cell_type": "code",
   "execution_count": 20,
   "metadata": {},
   "outputs": [
    {
     "name": "stdout",
     "output_type": "stream",
     "text": [
      "maximum_simulation_steps = 1000                             Avg Throughput: 0.08\n",
      "maximum_simulation_steps = 100000                           Avg Throughput: 0.19\n",
      "maximum_simulation_steps = 1000000                          Avg Throughput: 0.20\n",
      "maximum_simulation_steps = 10000                            Avg Throughput: 0.16\n",
      "\n",
      "\n",
      "repetitions = 1                                             Avg Throughput: 0.16\n",
      "repetitions = 2                                             Avg Throughput: 0.16\n",
      "repetitions = 3                                             Avg Throughput: 0.16\n",
      "repetitions = 5                                             Avg Throughput: 0.16\n",
      "\n",
      "\n",
      "controller = <class 'QLearning.QLearning'>                  Avg Throughput: 0.04\n",
      "controller = <class 'Dadca.Dadca'>                          Avg Throughput: 0.39\n",
      "\n",
      "\n",
      "training = True                                             Avg Throughput: 0.23\n",
      "training = False                                            Avg Throughput: 0.01\n",
      "\n",
      "\n"
     ]
    }
   ],
   "source": [
    "for column in variable_columns:\n",
    "    for value in result_df[column].unique():\n",
    "        print(f\"{column} = {value}\".ljust(60) + f\"Avg Throughput: {result_df[result_df[column] == value]['score'].mean() :.2f}\")\n",
    "    print(\"\\n\")"
   ]
  },
  {
   "cell_type": "markdown",
   "source": [
    "# Analysing Q Learning training performance"
   ],
   "metadata": {
    "collapsed": false
   }
  },
  {
   "cell_type": "code",
   "execution_count": 24,
   "outputs": [
    {
     "data": {
      "text/plain": "<Axes: xlabel='maximum_simulation_steps'>"
     },
     "execution_count": 24,
     "metadata": {},
     "output_type": "execute_result"
    },
    {
     "data": {
      "text/plain": "<Figure size 640x480 with 1 Axes>",
      "image/png": "[encoded data removed]"
     },
     "metadata": {},
     "output_type": "display_data"
    }
   ],
   "source": [
    "q_learning_testing = result_df[result_df['controller'].str.contains('QLearning') & (result_df['training'] == 'False')]\n",
    "q_learning_testing.groupby('maximum_simulation_steps')['avg_throughput'].mean().plot()"
   ],
   "metadata": {
    "collapsed": false
   }
  },
  {
   "cell_type": "code",
   "execution_count": null,
   "outputs": [],
   "source": [],
   "metadata": {
    "collapsed": false
   }
  }
 ],
 "metadata": {
  "kernelspec": {
   "display_name": "Python 3 (ipykernel)",
   "language": "python",
   "name": "python3"
  },
  "language_info": {
   "codemirror_mode": {
    "name": "ipython",
    "version": 3
   },
   "file_extension": ".py",
   "mimetype": "text/x-python",
   "name": "python",
   "nbconvert_exporter": "python",
   "pygments_lexer": "ipython3",
   "version": "3.11.0"
  }
 },
 "nbformat": 4,
 "nbformat_minor": 1
}
